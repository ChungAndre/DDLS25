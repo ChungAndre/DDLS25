{
  "cells": [
    {
      "cell_type": "markdown",
      "metadata": {
        "id": "l9AFE1gMr-cz"
      },
      "source": [
        "# Homework 1"
      ]
    },
    {
      "cell_type": "markdown",
      "metadata": {
        "id": "TRk44Lvbr-c0"
      },
      "source": [
        "## Instructions"
      ]
    },
    {
      "cell_type": "markdown",
      "metadata": {
        "id": "WbKosuLzr-c0"
      },
      "source": [
        "First, ensure you have cloned the [course repository](https://github.com/lydiaYchen/DDL25Spring).\n",
        "\n",
        "Then, open the [interactive notebook version](https://github.com/lydiaYchen/DDL25Spring/blob/main/lab/homework-1.ipynb) of this homework from your local copy.\n",
        "\n",
        "For part A, fill in the code and answers within the notebook and save your changes.\n",
        "\n",
        "For part B, create and archive the necessary Python/shell scripts together.\n",
        "\n",
        "Finally, upload the notebook and the archive to the assignment in ILIAS."
      ]
    },
    {
      "cell_type": "markdown",
      "metadata": {
        "id": "0E-ed0c4r-c0"
      },
      "source": [
        "## Part A (12 points)"
      ]
    },
    {
      "cell_type": "markdown",
      "metadata": {
        "id": "svoFHuW2r-c1"
      },
      "source": [
        "### Note"
      ]
    },
    {
      "cell_type": "markdown",
      "metadata": {
        "id": "bI1OBhEar-c1"
      },
      "source": [
        "When not otherwise specified, use the following parameter values in experiment runs:\n",
        "- `nr_clients` (N): 100\n",
        "- `lr`: 0.01\n",
        "- `client_fraction` (C): 0.1\n",
        "- `nr_local_epochs` (E): 1\n",
        "- `batch_size` (B): 100\n",
        "- `nr_rounds`: 10\n",
        "- `iid`: True\n",
        "\n",
        "For all exercises, pass `seed = 10` to calls for splitting data, server initialization, or plotting."
      ]
    },
    {
      "cell_type": "code",
      "execution_count": 1,
      "metadata": {
        "id": "f2ZnK2ner-c1"
      },
      "outputs": [],
      "source": [
        "import pandas as pd\n",
        "import seaborn as sns\n",
        "#from tutorial_1a.hfl_complete import *\n",
        "\n",
        "n = 100\n",
        "lr = 0.01\n",
        "c = 0.1\n",
        "e = 1\n",
        "b = 100\n",
        "nr_rounds = 10\n",
        "iid = True\n",
        "seed = 10"
      ]
    },
    {
      "cell_type": "markdown",
      "metadata": {
        "id": "8DCDYuX8r-c2"
      },
      "source": [
        "### Exercise A1: FedSGD with weights (3 points)"
      ]
    },
    {
      "cell_type": "markdown",
      "metadata": {
        "id": "FTnZQsGYr-c2"
      },
      "source": [
        "#### Question"
      ]
    },
    {
      "cell_type": "markdown",
      "metadata": {
        "id": "1Poxmu0nr-c2"
      },
      "source": [
        "_(2 points)_ Implement a version of FedSGD that uses weights in its updates, like FedAvg, instead of the gradients from the version of the tutorials. The two FedSGD versions should have the same test accuracy after each round (with a tolerance of at most 0.02%). To show this, compare their output for the following two scenarios over *5 rounds*:\n",
        "- `lr = 0.01, client_subsets = split(100, True, ...), client_fraction = 0.5`\n",
        "- `lr = 0.1, client_subsets = split(50, False, ...), client_fraction = 0.2`\n",
        "\n",
        "*Tip:* You can use the existing FedAvg implementation to minimize the amount of code writing required.\n",
        "\n",
        "_(1 point)_ Explain in which cases (about the different parameters for decentralized learning) the two are equivalent."
      ]
    },
    {
      "cell_type": "markdown",
      "metadata": {
        "id": "HjAVCQzfEWT3"
      },
      "source": [
        "## Dataset & Dataloader\n",
        "\n",
        "Import necessary libraries.\n",
        "\n",
        "Define the path to the data directory and a Greek letter symbol.\n",
        "\n",
        "Check for available hardware (CUDA or MPS) and set the device accordingly.\n",
        "\n",
        "Ensure deterministic behavior for reproducibility.\n",
        "\n",
        "Define a transformation pipeline to convert images to tensors and normalize them.\n",
        "\n",
        "Load the MNIST training and test datasets with the defined transformations and create data loaders for them."
      ]
    },
    {
      "cell_type": "code",
      "execution_count": 2,
      "metadata": {
        "id": "Dgvp84aPwaHC"
      },
      "outputs": [
        {
          "name": "stdout",
          "output_type": "stream",
          "text": [
            "Downloading http://yann.lecun.com/exdb/mnist/train-images-idx3-ubyte.gz\n",
            "Failed to download (trying next):\n",
            "HTTP Error 404: Not Found\n",
            "\n",
            "Downloading https://ossci-datasets.s3.amazonaws.com/mnist/train-images-idx3-ubyte.gz\n",
            "Downloading https://ossci-datasets.s3.amazonaws.com/mnist/train-images-idx3-ubyte.gz to ./data\\MNIST\\raw\\train-images-idx3-ubyte.gz\n"
          ]
        },
        {
          "name": "stderr",
          "output_type": "stream",
          "text": [
            "100%|██████████| 9.91M/9.91M [00:04<00:00, 2.00MB/s]\n"
          ]
        },
        {
          "name": "stdout",
          "output_type": "stream",
          "text": [
            "Extracting ./data\\MNIST\\raw\\train-images-idx3-ubyte.gz to ./data\\MNIST\\raw\n",
            "\n",
            "Downloading http://yann.lecun.com/exdb/mnist/train-labels-idx1-ubyte.gz\n",
            "Failed to download (trying next):\n",
            "HTTP Error 404: Not Found\n",
            "\n",
            "Downloading https://ossci-datasets.s3.amazonaws.com/mnist/train-labels-idx1-ubyte.gz\n",
            "Downloading https://ossci-datasets.s3.amazonaws.com/mnist/train-labels-idx1-ubyte.gz to ./data\\MNIST\\raw\\train-labels-idx1-ubyte.gz\n"
          ]
        },
        {
          "name": "stderr",
          "output_type": "stream",
          "text": [
            "100%|██████████| 28.9k/28.9k [00:00<00:00, 309kB/s]\n"
          ]
        },
        {
          "name": "stdout",
          "output_type": "stream",
          "text": [
            "Extracting ./data\\MNIST\\raw\\train-labels-idx1-ubyte.gz to ./data\\MNIST\\raw\n",
            "\n",
            "Downloading http://yann.lecun.com/exdb/mnist/t10k-images-idx3-ubyte.gz\n",
            "Failed to download (trying next):\n",
            "HTTP Error 404: Not Found\n",
            "\n",
            "Downloading https://ossci-datasets.s3.amazonaws.com/mnist/t10k-images-idx3-ubyte.gz\n",
            "Downloading https://ossci-datasets.s3.amazonaws.com/mnist/t10k-images-idx3-ubyte.gz to ./data\\MNIST\\raw\\t10k-images-idx3-ubyte.gz\n"
          ]
        },
        {
          "name": "stderr",
          "output_type": "stream",
          "text": [
            "100%|██████████| 1.65M/1.65M [00:00<00:00, 2.44MB/s]\n"
          ]
        },
        {
          "name": "stdout",
          "output_type": "stream",
          "text": [
            "Extracting ./data\\MNIST\\raw\\t10k-images-idx3-ubyte.gz to ./data\\MNIST\\raw\n",
            "\n",
            "Downloading http://yann.lecun.com/exdb/mnist/t10k-labels-idx1-ubyte.gz\n",
            "Failed to download (trying next):\n",
            "HTTP Error 404: Not Found\n",
            "\n",
            "Downloading https://ossci-datasets.s3.amazonaws.com/mnist/t10k-labels-idx1-ubyte.gz\n",
            "Downloading https://ossci-datasets.s3.amazonaws.com/mnist/t10k-labels-idx1-ubyte.gz to ./data\\MNIST\\raw\\t10k-labels-idx1-ubyte.gz\n"
          ]
        },
        {
          "name": "stderr",
          "output_type": "stream",
          "text": [
            "100%|██████████| 4.54k/4.54k [00:00<00:00, 4.55MB/s]"
          ]
        },
        {
          "name": "stdout",
          "output_type": "stream",
          "text": [
            "Extracting ./data\\MNIST\\raw\\t10k-labels-idx1-ubyte.gz to ./data\\MNIST\\raw\n",
            "\n"
          ]
        },
        {
          "name": "stderr",
          "output_type": "stream",
          "text": [
            "\n"
          ]
        }
      ],
      "source": [
        "import torch\n",
        "from torch.utils.data import DataLoader\n",
        "from torchvision import datasets, transforms\n",
        "\n",
        "# Define the path to the data dir\n",
        "data_path = \"./data\"\n",
        "# Define the Greek small letter eta symbol\n",
        "ETA = \"\\N{GREEK SMALL LETTER ETA}\"\n",
        "\n",
        "if torch.cuda.is_available():\n",
        "    device = torch.device(\"cuda\")\n",
        "elif torch.mps.is_available():\n",
        "    device = torch.device(\"mps\")\n",
        "else:\n",
        "    device = torch.device(\"cpu\")\n",
        "\n",
        "\n",
        "\n",
        "#Reproductibility\n",
        "torch.backends.cudnn.deterministic = True\n",
        "\n",
        "transform = transforms.Compose([\n",
        "    transforms.ToTensor(),\n",
        "    # normalize by training set mean and standard deviation\n",
        "    # resulting data has mean=0 and std=1\n",
        "    transforms.Normalize((0.1307,), (0.3081,))\n",
        "])\n",
        "\n",
        "# Load the MNIST training dataset with the defined transformations\n",
        "train_dataset = datasets.MNIST(data_path, train=True, download=True, transform=transform)\n",
        "# Load the MNIST test dataset with the defined transformations\n",
        "test_loader = DataLoader(\n",
        "    datasets.MNIST(data_path, train=False, download=False, transform=transform),\n",
        "    # Set the batch size to 10000 for testing\n",
        "    batch_size=10000,\n",
        "    # Shuffle the data (not necessary for testing)\n",
        "    shuffle=False,\n",
        "    # Do not drop the last incomplete batch\n",
        "    drop_last=False,\n",
        "    # Use a specific generator to avoid reproducibility issues\n",
        "    generator=torch.Generator()\n",
        ")"
      ]
    },
    {
      "cell_type": "markdown",
      "metadata": {
        "id": "7h1Wpf_JEbFg"
      },
      "source": [
        "## Model"
      ]
    },
    {
      "cell_type": "code",
      "execution_count": 3,
      "metadata": {
        "id": "hsp2aFHnEjGD"
      },
      "outputs": [],
      "source": [
        "import torch.nn as nn\n",
        "import torch.nn.functional as F\n",
        "\n",
        "\n",
        "# Define a class for the MNIST CNN model\n",
        "class MnistCnn(nn.Module):\n",
        "    def __init__(self):\n",
        "        super(MnistCnn, self).__init__()\n",
        "\n",
        "        # Define the first convolutional layer\n",
        "        self.conv1 = nn.Conv2d(1, 32, 3, 1)\n",
        "        # Define the second convolutional layer\n",
        "        self.conv2 = nn.Conv2d(32, 64, 3, 1)\n",
        "        # Define the first dropout layer with a dropout probability of 0.25\n",
        "        self.dropout1 = nn.Dropout(0.25)\n",
        "        # Define the second dropout layer with a dropout probability of 0.5\n",
        "        self.dropout2 = nn.Dropout(0.5)\n",
        "        # Define the first fully connected layer\n",
        "        self.fc1 = nn.Linear(9216, 128)\n",
        "        # Define the second fully connected layer\n",
        "        self.fc2 = nn.Linear(128, 10)\n",
        "\n",
        "    def forward(self, x):\n",
        "        # Apply the first convolutional layer followed by ReLU activation\n",
        "        x = self.conv1(x)\n",
        "        x = F.relu(x)\n",
        "        # Apply the second convolutional layer followed by ReLU activation\n",
        "        x = self.conv2(x)\n",
        "        x = F.relu(x)\n",
        "        # Apply max pooling with a kernel size of 2\n",
        "        x = F.max_pool2d(x, 2)\n",
        "        # Apply the first dropout layer\n",
        "        x = self.dropout1(x)\n",
        "        # Flatten the tensor\n",
        "        x = torch.flatten(x, 1)\n",
        "        # Apply the first fully connected layer followed by ReLU activation\n",
        "        x = self.fc1(x)\n",
        "        x = F.relu(x)\n",
        "        # Apply the second dropout layer\n",
        "        x = self.dropout2(x)\n",
        "        # Apply the second fully connected layer\n",
        "        x = self.fc2(x)\n",
        "        # Apply log softmax activation\n",
        "        output = F.log_softmax(x, dim=1)\n",
        "\n",
        "        return output"
      ]
    },
    {
      "cell_type": "markdown",
      "metadata": {
        "id": "ztg3jus7ElAF"
      },
      "source": [
        "## Training"
      ]
    },
    {
      "cell_type": "code",
      "execution_count": 4,
      "metadata": {
        "id": "LoHUAfpxKTnC"
      },
      "outputs": [],
      "source": [
        "from torch.optim import Optimizer\n",
        "\n",
        "def train_epoch(model: torch.nn.Module, loader: DataLoader, optimizer: Optimizer) -> None:\n",
        "    # Set the model to training mode\n",
        "    model.train()\n",
        "\n",
        "    # Iterate over the data loader\n",
        "    for data, target in loader:\n",
        "        # Move data and target to the specified device (CPU, CUDA, or MPS)\n",
        "        data, target = data.to(device), target.to(device)\n",
        "        # Zero the gradients of the optimizer\n",
        "        optimizer.zero_grad()\n",
        "        # Perform a forward pass through the model\n",
        "        output = model(data)\n",
        "        # Calculate the negative log-likelihood loss\n",
        "        loss = F.nll_loss(output, target)\n",
        "        # Perform a backward pass to compute gradients\n",
        "        loss.backward()\n",
        "        # Update the model parameters using the optimizer\n",
        "        optimizer.step()\n",
        "    return"
      ]
    },
    {
      "cell_type": "markdown",
      "metadata": {
        "id": "7H5eTZiqKVHK"
      },
      "source": [
        "## Split"
      ]
    },
    {
      "cell_type": "code",
      "execution_count": 5,
      "metadata": {
        "id": "pDv6h7cwKZhG"
      },
      "outputs": [],
      "source": [
        "from typing import cast\n",
        "\n",
        "import numpy as np\n",
        "import numpy.random as npr\n",
        "from torch.utils.data import Subset\n",
        "\n",
        "# Subset for each party\n",
        "# iid, some clients has specific class of data -> clients has 2 classes each instaed of from every classes\n",
        "def split(nr_clients: int, iid: bool, seed: int) -> list[Subset]:\n",
        "    rng = npr.default_rng(seed)\n",
        "\n",
        "    if iid:\n",
        "        splits = np.array_split(rng.permutation(len(train_dataset)), nr_clients)\n",
        "    else:\n",
        "        sorted_indices = np.argsort(np.array([target for _data, target in train_dataset])) #separate by classes\n",
        "        shards = np.array_split(sorted_indices, 2 * nr_clients) # each client, at most 2 labels\n",
        "        shuffled_shard_indices = rng.permutation(len(shards)) # shuffle the shards\n",
        "        splits = [\n",
        "            np.concatenate([shards[i] for i in inds], dtype=np.int64)\n",
        "            for inds in shuffled_shard_indices.reshape(-1, 2)] #iterate through the shards and concatenate them to assign to clients\n",
        "\n",
        "    return [Subset(train_dataset, split) for split in cast(list[list[int]], splits)] #return the subsets, cast to list of list of int for needed type\n",
        "\n",
        "\n",
        "sample_split = split(100, True, 42)"
      ]
    },
    {
      "cell_type": "markdown",
      "metadata": {
        "id": "rN_1_pl7KbEI"
      },
      "source": [
        "##RunResult\n",
        "data class RunResult that is used to store and monitor the results of training a machine learning model"
      ]
    },
    {
      "cell_type": "code",
      "execution_count": 6,
      "metadata": {
        "id": "WHP4peeDKk-i"
      },
      "outputs": [],
      "source": [
        "from dataclasses import asdict, dataclass, field\n",
        "\n",
        "from pandas import DataFrame\n",
        "\n",
        "# auxiliare class to monitor the training\n",
        "# each rounds, subset will be trained and tested (otherwise lots of communication)\n",
        "# the results will be stored in the RunResult class\n",
        "\n",
        "@dataclass\n",
        "class RunResult:\n",
        "    algorithm: str\n",
        "    n: int  # number of clients\n",
        "    c: float  # client_fraction\n",
        "    b: int  # take -1 as inf\n",
        "    e: int  # nr_local_epochs\n",
        "    lr: float  # printed as lowercase eta\n",
        "    seed: int\n",
        "    wall_time: list[float] = field(default_factory=list) #simulation of time takek\n",
        "    message_count: list[int] = field(default_factory=list)\n",
        "    test_accuracy: list[float] = field(default_factory=list)\n",
        "\n",
        "    def as_df(self, skip_wtime=True) -> DataFrame:\n",
        "        self_dict = {\n",
        "            k.capitalize().replace(\"_\", \" \"): v\n",
        "            for k, v in asdict(self).items()}\n",
        "\n",
        "        if self_dict[\"B\"] == -1:\n",
        "            self_dict[\"B\"] = \"\\N{INFINITY}\"\n",
        "\n",
        "        df = DataFrame({\"Round\": range(1, len(self.wall_time) + 1), **self_dict})\n",
        "        df = df.rename(columns={\"Lr\": ETA})\n",
        "        if skip_wtime:\n",
        "            df = df.drop(columns=[\"Wall time\"])\n",
        "        return df"
      ]
    },
    {
      "cell_type": "markdown",
      "metadata": {
        "id": "Em2EwsRfKoIE"
      },
      "source": [
        "## Client Server Class\n",
        "Abstract base classes for client and server"
      ]
    },
    {
      "cell_type": "code",
      "execution_count": 7,
      "metadata": {
        "id": "cZ3GLIu0KnLX"
      },
      "outputs": [],
      "source": [
        "from abc import ABC, abstractmethod\n",
        "\n",
        "class Client(ABC):\n",
        "    def __init__(self, client_data: Subset, batch_size: int) -> None:\n",
        "        self.model = MnistCnn().to(device)\n",
        "        self.generator = torch.Generator()\n",
        "        self.loader_train = DataLoader(\n",
        "            client_data, batch_size=batch_size, shuffle=True,\n",
        "            drop_last=False, generator=self.generator)\n",
        "\n",
        "\n",
        "    @abstractmethod\n",
        "    def update(self, weights: list[torch.Tensor], seed: int) -> list[torch.Tensor]:\n",
        "        ...\n",
        "\n",
        "\n",
        "class Server(ABC):\n",
        "    def __init__(self, lr: float, batch_size: int, seed: int) -> None:\n",
        "        self.clients: list[Client]\n",
        "        self.lr = lr\n",
        "        self.batch_size = batch_size\n",
        "        self.seed = seed\n",
        "        torch.manual_seed(seed)\n",
        "        self.model = MnistCnn().to(device) #local copy of model\n",
        "\n",
        "\n",
        "    @abstractmethod\n",
        "    def run(self, nr_rounds: int) -> RunResult:\n",
        "        ...\n",
        "\n",
        "\n",
        "    def test(self) -> float:\n",
        "        correct = 0\n",
        "        self.model.eval()\n",
        "\n",
        "        with torch.no_grad():\n",
        "            for data, target in test_loader:\n",
        "                data, target = data.to(device), target.to(device)\n",
        "                output = self.model(data)\n",
        "                pred = output.argmax(dim=1, keepdim=True)\n",
        "                correct += pred.eq(target.view_as(pred)).sum().item()\n",
        "\n",
        "        return 100. * correct / len(cast(datasets.MNIST, test_loader.dataset))"
      ]
    },
    {
      "cell_type": "markdown",
      "metadata": {
        "id": "g4RUHaYFKu-N"
      },
      "source": [
        "##Centralized server\n",
        "\n",
        "class is used to train a machine learning model in a centralized manner, where all data is available on a single server"
      ]
    },
    {
      "cell_type": "code",
      "execution_count": 8,
      "metadata": {
        "id": "mgXe58B0xpsv"
      },
      "outputs": [],
      "source": [
        "from time import perf_counter\n",
        "\n",
        "from torch.optim import SGD\n",
        "from tqdm import tqdm\n",
        "\n",
        "\n",
        "class CentralizedServer(Server):\n",
        "    def __init__(self, lr: float, batch_size: int, seed: int) -> None:\n",
        "        super().__init__(lr, batch_size, seed)\n",
        "        self.optimizer = SGD(params=self.model.parameters(), lr=lr)\n",
        "        self.generator = torch.Generator()\n",
        "        self.loader_train = DataLoader(\n",
        "            train_dataset, batch_size=batch_size, shuffle=True,\n",
        "            drop_last=False, generator=self.generator)\n",
        "        self.clients = []\n",
        "\n",
        "    def run(self, nr_rounds: int) -> RunResult:\n",
        "\n",
        "        elapsed_time = 0.\n",
        "        run_result = RunResult(\"Centralized\", 1, 1, self.batch_size, 1, self.lr, self.seed)\n",
        "\n",
        "        for epoch in tqdm(range(nr_rounds), desc=\"Epochs\", leave=False):\n",
        "            start_time = perf_counter()\n",
        "            self.generator.manual_seed(self.seed + epoch + 1)\n",
        "            train_epoch(self.model, self.loader_train, self.optimizer)\n",
        "            elapsed_time += perf_counter() - start_time\n",
        "            run_result.wall_time.append(round(elapsed_time, 1))\n",
        "            run_result.message_count.append(0) # no communication, since centralized\n",
        "            run_result.test_accuracy.append(self.test())\n",
        "\n",
        "        return run_result"
      ]
    },
    {
      "cell_type": "code",
      "execution_count": 9,
      "metadata": {
        "colab": {
          "base_uri": "https://localhost:8080/",
          "height": 206
        },
        "id": "nzGTL2aPvE-p",
        "outputId": "2eb065ec-c036-40ce-b67a-552498722605"
      },
      "outputs": [
        {
          "name": "stderr",
          "output_type": "stream",
          "text": [
            "                                                     \r"
          ]
        },
        {
          "data": {
            "text/html": [
              "<div>\n",
              "<style scoped>\n",
              "    .dataframe tbody tr th:only-of-type {\n",
              "        vertical-align: middle;\n",
              "    }\n",
              "\n",
              "    .dataframe tbody tr th {\n",
              "        vertical-align: top;\n",
              "    }\n",
              "\n",
              "    .dataframe thead th {\n",
              "        text-align: right;\n",
              "    }\n",
              "</style>\n",
              "<table border=\"1\" class=\"dataframe\">\n",
              "  <thead>\n",
              "    <tr style=\"text-align: right;\">\n",
              "      <th></th>\n",
              "      <th>Round</th>\n",
              "      <th>Algorithm</th>\n",
              "      <th>N</th>\n",
              "      <th>C</th>\n",
              "      <th>B</th>\n",
              "      <th>E</th>\n",
              "      <th>η</th>\n",
              "      <th>Seed</th>\n",
              "      <th>Message count</th>\n",
              "      <th>Test accuracy</th>\n",
              "    </tr>\n",
              "  </thead>\n",
              "  <tbody>\n",
              "    <tr>\n",
              "      <th>0</th>\n",
              "      <td>1</td>\n",
              "      <td>Centralized</td>\n",
              "      <td>1</td>\n",
              "      <td>1</td>\n",
              "      <td>1024</td>\n",
              "      <td>1</td>\n",
              "      <td>0.5</td>\n",
              "      <td>42</td>\n",
              "      <td>0</td>\n",
              "      <td>88.36</td>\n",
              "    </tr>\n",
              "    <tr>\n",
              "      <th>1</th>\n",
              "      <td>2</td>\n",
              "      <td>Centralized</td>\n",
              "      <td>1</td>\n",
              "      <td>1</td>\n",
              "      <td>1024</td>\n",
              "      <td>1</td>\n",
              "      <td>0.5</td>\n",
              "      <td>42</td>\n",
              "      <td>0</td>\n",
              "      <td>92.49</td>\n",
              "    </tr>\n",
              "    <tr>\n",
              "      <th>2</th>\n",
              "      <td>3</td>\n",
              "      <td>Centralized</td>\n",
              "      <td>1</td>\n",
              "      <td>1</td>\n",
              "      <td>1024</td>\n",
              "      <td>1</td>\n",
              "      <td>0.5</td>\n",
              "      <td>42</td>\n",
              "      <td>0</td>\n",
              "      <td>97.35</td>\n",
              "    </tr>\n",
              "    <tr>\n",
              "      <th>3</th>\n",
              "      <td>4</td>\n",
              "      <td>Centralized</td>\n",
              "      <td>1</td>\n",
              "      <td>1</td>\n",
              "      <td>1024</td>\n",
              "      <td>1</td>\n",
              "      <td>0.5</td>\n",
              "      <td>42</td>\n",
              "      <td>0</td>\n",
              "      <td>97.66</td>\n",
              "    </tr>\n",
              "    <tr>\n",
              "      <th>4</th>\n",
              "      <td>5</td>\n",
              "      <td>Centralized</td>\n",
              "      <td>1</td>\n",
              "      <td>1</td>\n",
              "      <td>1024</td>\n",
              "      <td>1</td>\n",
              "      <td>0.5</td>\n",
              "      <td>42</td>\n",
              "      <td>0</td>\n",
              "      <td>98.33</td>\n",
              "    </tr>\n",
              "  </tbody>\n",
              "</table>\n",
              "</div>"
            ],
            "text/plain": [
              "   Round    Algorithm  N  C     B  E    η  Seed  Message count  Test accuracy\n",
              "0      1  Centralized  1  1  1024  1  0.5    42              0          88.36\n",
              "1      2  Centralized  1  1  1024  1  0.5    42              0          92.49\n",
              "2      3  Centralized  1  1  1024  1  0.5    42              0          97.35\n",
              "3      4  Centralized  1  1  1024  1  0.5    42              0          97.66\n",
              "4      5  Centralized  1  1  1024  1  0.5    42              0          98.33"
            ]
          },
          "execution_count": 9,
          "metadata": {},
          "output_type": "execute_result"
        }
      ],
      "source": [
        "centralized_server = CentralizedServer(0.5, 1024, 42)\n",
        "result_centralized = centralized_server.run(5)\n",
        "centralized_df = result_centralized.as_df()\n",
        "centralized_df"
      ]
    },
    {
      "cell_type": "markdown",
      "metadata": {
        "id": "oHPYRSXUK4DG"
      },
      "source": [
        "## Decentralized Server"
      ]
    },
    {
      "cell_type": "code",
      "execution_count": 10,
      "metadata": {
        "id": "Z84F_5_ZLEwW"
      },
      "outputs": [],
      "source": [
        "class DecentralizedServer(Server):\n",
        "    def __init__(\n",
        "            self, lr: float, batch_size: int, client_subsets: list[Subset],\n",
        "            client_fraction: float, seed: int) -> None:\n",
        "        super().__init__(lr, batch_size, seed)\n",
        "        self.nr_clients = len(client_subsets)\n",
        "        self.client_fraction = client_fraction\n",
        "        self.client_sample_counts = [len(subset) for subset in client_subsets]\n",
        "        self.nr_clients_per_round = max(1, round(client_fraction * self.nr_clients))\n",
        "        self.rng = npr.default_rng(seed)"
      ]
    },
    {
      "cell_type": "code",
      "execution_count": 11,
      "metadata": {
        "id": "aU1V0IcGLHj7"
      },
      "outputs": [],
      "source": [
        "class GradientClient(Client):\n",
        "    def __init__(self, client_data: Subset) -> None:\n",
        "        super().__init__(client_data, len(client_data))\n",
        "\n",
        "    def update(self, weights: list[torch.Tensor], seed: int) -> list[torch.Tensor]:\n",
        "        with torch.no_grad():\n",
        "            for client_values, server_values in zip(self.model.parameters(), weights): #client and server values together\n",
        "                client_values[:] = server_values\n",
        "                client_values.grad = None #set grad to 0\n",
        "\n",
        "        # seeding is not strictly necessary here\n",
        "        self.generator.manual_seed(seed)\n",
        "        self.model.train()\n",
        "\n",
        "        # this will always have one iteration (infinity batch size)\n",
        "        for data, target in self.loader_train:\n",
        "            data, target = data.to(device), target.to(device)\n",
        "            output = self.model(data)\n",
        "            loss = F.nll_loss(output, target)\n",
        "            loss.backward() #calculate gradients\n",
        "\n",
        "        return [\n",
        "            cast(torch.Tensor, x.grad).detach().cpu().clone() #detach and duplicate from graph because no need to calculate gradients (normally through machines)\n",
        "            for x in self.model.parameters()] #return the gradients to the server\n"
      ]
    },
    {
      "cell_type": "markdown",
      "metadata": {
        "id": "uMUmy4CELYi-"
      },
      "source": [
        "##FedSgdGradientServer\n",
        "class implements a federated learning algorithm where clients compute gradients based on their local data and send these gradients back to the server. The server then aggregates these gradients to update the global model."
      ]
    },
    {
      "cell_type": "code",
      "execution_count": 12,
      "metadata": {
        "id": "FyWlW232yDkd"
      },
      "outputs": [],
      "source": [
        "class FedSgdGradientServer(DecentralizedServer):\n",
        "    def __init__(\n",
        "            self, lr: float,\n",
        "            client_subsets: list[Subset], client_fraction: float, seed: int) -> None:\n",
        "        super().__init__(lr, -1, client_subsets, client_fraction, seed)\n",
        "        self.optimizer = SGD(params=self.model.parameters(), lr=lr) #need optimizer because gradient\n",
        "        self.clients = [GradientClient(subset) for subset in client_subsets]\n",
        "\n",
        "    def run(self, nr_rounds: int) -> RunResult:\n",
        "        elapsed_time = 0.\n",
        "        run_result = RunResult(\n",
        "            \"FedSGDGradient\", self.nr_clients, self.client_fraction, -1, 1, self.lr, self.seed)\n",
        "\n",
        "        for nr_round in tqdm(range(nr_rounds), desc=\"Rounds\", leave=False):\n",
        "            setup_start_time = perf_counter()\n",
        "            self.model.train()\n",
        "            self.optimizer.zero_grad()\n",
        "            weights = [x.detach().cpu().clone() for x in self.model.parameters()]\n",
        "            indices_chosen_clients = self.rng.choice(\n",
        "                self.nr_clients, self.nr_clients_per_round, replace=False) #find active clients\n",
        "            chosen_sum_nr_samples = sum(\n",
        "                self.client_sample_counts[i] for i in indices_chosen_clients) #total nb of samples from clients\n",
        "            chosen_adjusted_gradients: list[list[torch.Tensor]] = []\n",
        "            elapsed_time += perf_counter() - setup_start_time\n",
        "            update_time = 0.\n",
        "\n",
        "            for c_i in indices_chosen_clients:\n",
        "                update_start_time = perf_counter()\n",
        "                ind = int(c_i)\n",
        "                client_round_seed = self.seed + ind + 1 + nr_round * self.nr_clients_per_round #controlled variability\n",
        "                client_gradients = self.clients[ind].update(weights, client_round_seed)\n",
        "                chosen_adjusted_gradients.append([\n",
        "                    self.client_sample_counts[ind] / chosen_sum_nr_samples * tens\n",
        "                     for tens in client_gradients])\n",
        "                update_time = max(update_time, perf_counter() - update_start_time) #simulate parallel training\n",
        "\n",
        "            elapsed_time += update_time\n",
        "            aggregate_start_time = perf_counter()\n",
        "            averaged_chosen_gradients: list[torch.Tensor] = [\n",
        "                torch.stack(x, dim=0).sum(dim=0) for x in zip(*chosen_adjusted_gradients)] #average the gradients once all clients have updated\n",
        "\n",
        "            with torch.no_grad():\n",
        "                zip_gradient_parameter = zip(averaged_chosen_gradients, self.model.parameters())\n",
        "                for client_gradient, server_parameter in zip_gradient_parameter:\n",
        "                    server_parameter.grad = client_gradient.to(device=device) #copy average gardient to our models\n",
        "\n",
        "            self.optimizer.step() #update the weights\n",
        "            elapsed_time += perf_counter() - aggregate_start_time\n",
        "            run_result.wall_time.append(round(elapsed_time, 1))\n",
        "            run_result.message_count.append(2 * (nr_round + 1) * self.nr_clients_per_round)\n",
        "            run_result.test_accuracy.append(self.test())\n",
        "\n",
        "        return run_result"
      ]
    },
    {
      "cell_type": "code",
      "execution_count": 13,
      "metadata": {
        "colab": {
          "base_uri": "https://localhost:8080/",
          "height": 206
        },
        "id": "zdCtFgZtyELI",
        "outputId": "566236cd-eafd-423f-9a8b-e416b0d96a56"
      },
      "outputs": [
        {
          "name": "stderr",
          "output_type": "stream",
          "text": [
            "                                                     \r"
          ]
        },
        {
          "data": {
            "text/html": [
              "<div>\n",
              "<style scoped>\n",
              "    .dataframe tbody tr th:only-of-type {\n",
              "        vertical-align: middle;\n",
              "    }\n",
              "\n",
              "    .dataframe tbody tr th {\n",
              "        vertical-align: top;\n",
              "    }\n",
              "\n",
              "    .dataframe thead th {\n",
              "        text-align: right;\n",
              "    }\n",
              "</style>\n",
              "<table border=\"1\" class=\"dataframe\">\n",
              "  <thead>\n",
              "    <tr style=\"text-align: right;\">\n",
              "      <th></th>\n",
              "      <th>Round</th>\n",
              "      <th>Algorithm</th>\n",
              "      <th>N</th>\n",
              "      <th>C</th>\n",
              "      <th>B</th>\n",
              "      <th>E</th>\n",
              "      <th>η</th>\n",
              "      <th>Seed</th>\n",
              "      <th>Message count</th>\n",
              "      <th>Test accuracy</th>\n",
              "    </tr>\n",
              "  </thead>\n",
              "  <tbody>\n",
              "    <tr>\n",
              "      <th>0</th>\n",
              "      <td>1</td>\n",
              "      <td>FedSGDGradient</td>\n",
              "      <td>100</td>\n",
              "      <td>0.2</td>\n",
              "      <td>∞</td>\n",
              "      <td>1</td>\n",
              "      <td>0.02</td>\n",
              "      <td>42</td>\n",
              "      <td>40</td>\n",
              "      <td>8.89</td>\n",
              "    </tr>\n",
              "    <tr>\n",
              "      <th>1</th>\n",
              "      <td>2</td>\n",
              "      <td>FedSGDGradient</td>\n",
              "      <td>100</td>\n",
              "      <td>0.2</td>\n",
              "      <td>∞</td>\n",
              "      <td>1</td>\n",
              "      <td>0.02</td>\n",
              "      <td>42</td>\n",
              "      <td>80</td>\n",
              "      <td>9.47</td>\n",
              "    </tr>\n",
              "    <tr>\n",
              "      <th>2</th>\n",
              "      <td>3</td>\n",
              "      <td>FedSGDGradient</td>\n",
              "      <td>100</td>\n",
              "      <td>0.2</td>\n",
              "      <td>∞</td>\n",
              "      <td>1</td>\n",
              "      <td>0.02</td>\n",
              "      <td>42</td>\n",
              "      <td>120</td>\n",
              "      <td>10.31</td>\n",
              "    </tr>\n",
              "    <tr>\n",
              "      <th>3</th>\n",
              "      <td>4</td>\n",
              "      <td>FedSGDGradient</td>\n",
              "      <td>100</td>\n",
              "      <td>0.2</td>\n",
              "      <td>∞</td>\n",
              "      <td>1</td>\n",
              "      <td>0.02</td>\n",
              "      <td>42</td>\n",
              "      <td>160</td>\n",
              "      <td>12.56</td>\n",
              "    </tr>\n",
              "    <tr>\n",
              "      <th>4</th>\n",
              "      <td>5</td>\n",
              "      <td>FedSGDGradient</td>\n",
              "      <td>100</td>\n",
              "      <td>0.2</td>\n",
              "      <td>∞</td>\n",
              "      <td>1</td>\n",
              "      <td>0.02</td>\n",
              "      <td>42</td>\n",
              "      <td>200</td>\n",
              "      <td>15.72</td>\n",
              "    </tr>\n",
              "  </tbody>\n",
              "</table>\n",
              "</div>"
            ],
            "text/plain": [
              "   Round       Algorithm    N    C  B  E     η  Seed  Message count  \\\n",
              "0      1  FedSGDGradient  100  0.2  ∞  1  0.02    42             40   \n",
              "1      2  FedSGDGradient  100  0.2  ∞  1  0.02    42             80   \n",
              "2      3  FedSGDGradient  100  0.2  ∞  1  0.02    42            120   \n",
              "3      4  FedSGDGradient  100  0.2  ∞  1  0.02    42            160   \n",
              "4      5  FedSGDGradient  100  0.2  ∞  1  0.02    42            200   \n",
              "\n",
              "   Test accuracy  \n",
              "0           8.89  \n",
              "1           9.47  \n",
              "2          10.31  \n",
              "3          12.56  \n",
              "4          15.72  "
            ]
          },
          "execution_count": 13,
          "metadata": {},
          "output_type": "execute_result"
        }
      ],
      "source": [
        "fedsgd_gradient_server = FedSgdGradientServer(0.02, sample_split, 0.2, 42)\n",
        "result_fedsgd_gradient = fedsgd_gradient_server.run(5)\n",
        "fedsgd_gradient_df = result_fedsgd_gradient.as_df()\n",
        "fedsgd_gradient_df"
      ]
    },
    {
      "cell_type": "markdown",
      "metadata": {
        "id": "E7gVtDa8LNiI"
      },
      "source": [
        "## FedAvgServer\n",
        "weightClient class updates the client's model parameters based on the received weights and trains the model for a specified number of epochs. The FedAvgServer class manages the training process by aggregating the weights from multiple clients and updating the global model"
      ]
    },
    {
      "cell_type": "code",
      "execution_count": 14,
      "metadata": {
        "id": "B6t6GMxfyHg2"
      },
      "outputs": [],
      "source": [
        "class WeightClient(Client):\n",
        "    def __init__(self, client_data: Subset, lr: float, batch_size: int, nr_epochs: int) -> None:\n",
        "        super().__init__(client_data, batch_size)\n",
        "        self.optimizer = SGD(params=self.model.parameters(), lr=lr)\n",
        "        self.nr_epochs = nr_epochs\n",
        "\n",
        "\n",
        "    def update(self, weights: list[torch.Tensor], seed: int) -> list[torch.Tensor]:\n",
        "        with torch.no_grad():\n",
        "            for client_values, server_values in zip(self.model.parameters(), weights):\n",
        "                client_values[:] = server_values\n",
        "\n",
        "        self.generator.manual_seed(seed)\n",
        "\n",
        "        for _epoch in range(self.nr_epochs):\n",
        "            train_epoch(self.model, self.loader_train, self.optimizer)\n",
        "\n",
        "        return [x.detach().cpu().clone() for x in self.model.parameters()]\n",
        "\n",
        "\n",
        "class FedAvgServer(DecentralizedServer):\n",
        "    def __init__(\n",
        "            self, lr: float, batch_size: int, client_subsets: list[Subset],\n",
        "            client_fraction: float, nr_local_epochs: int, seed: int) -> None:\n",
        "        super().__init__(lr, batch_size, client_subsets, client_fraction, seed)\n",
        "        self.name = \"FedAvg\"\n",
        "        self.nr_local_epochs = nr_local_epochs\n",
        "        self.clients = [\n",
        "            WeightClient(subset, lr, batch_size, nr_local_epochs)\n",
        "            for subset in client_subsets]\n",
        "\n",
        "    def run(self, nr_rounds: int) -> RunResult:\n",
        "        elapsed_time = 0.\n",
        "        run_result = RunResult(\n",
        "            self.name, self.nr_clients, self.client_fraction, self.batch_size,\n",
        "            self.nr_local_epochs, self.lr, self.seed)\n",
        "\n",
        "        for nr_round in tqdm(range(nr_rounds), desc=\"Rounds\", leave=False):\n",
        "            setup_start_time = perf_counter()\n",
        "            self.model.train()\n",
        "            weights = [x.detach().cpu().clone() for x in self.model.parameters()]\n",
        "            indices_chosen_clients = self.rng.choice(\n",
        "                self.nr_clients, self.nr_clients_per_round, replace=False)\n",
        "            chosen_sum_nr_samples = sum(\n",
        "                self.client_sample_counts[i] for i in indices_chosen_clients) #total nb of samples from clients, bc clients data not same amount\n",
        "            chosen_adjusted_weights: list[list[torch.Tensor]] = []\n",
        "            elapsed_time += perf_counter() - setup_start_time\n",
        "            update_time = 0.\n",
        "\n",
        "            for c_i in indices_chosen_clients:\n",
        "                update_start_time = perf_counter()\n",
        "                ind = int(c_i)\n",
        "                client_round_seed = self.seed + ind + 1 + nr_round * self.nr_clients_per_round\n",
        "                client_weights = self.clients[ind].update(weights, client_round_seed)\n",
        "                chosen_adjusted_weights.append([\n",
        "                    self.client_sample_counts[ind] / chosen_sum_nr_samples * tens\n",
        "                     for tens in client_weights])\n",
        "                update_time = max(update_time, perf_counter() - update_start_time)\n",
        "\n",
        "            elapsed_time += update_time\n",
        "            aggregate_start_time = perf_counter()\n",
        "            averaged_chosen_weights: list[torch.Tensor] = [\n",
        "                torch.stack(x, dim=0).sum(dim=0) for x in zip(*chosen_adjusted_weights)]\n",
        "\n",
        "            with torch.no_grad():\n",
        "                zip_weight_parameter = zip(averaged_chosen_weights, self.model.parameters())\n",
        "                for client_weight, server_parameter in zip_weight_parameter:\n",
        "                    server_parameter[:] = client_weight.to(device=device)\n",
        "                    #no optimizer since we have weights\n",
        "\n",
        "            elapsed_time += perf_counter() - aggregate_start_time\n",
        "            run_result.wall_time.append(round(elapsed_time, 1))\n",
        "            run_result.message_count.append(2 * (nr_round + 1) * self.nr_clients_per_round)\n",
        "            run_result.test_accuracy.append(self.test())\n",
        "\n",
        "        return run_result"
      ]
    },
    {
      "cell_type": "code",
      "execution_count": 15,
      "metadata": {
        "colab": {
          "base_uri": "https://localhost:8080/",
          "height": 206
        },
        "id": "Xd2RH_uYyHwI",
        "outputId": "e8eb24f9-fce1-446b-fa93-cf179a3375b9"
      },
      "outputs": [
        {
          "name": "stderr",
          "output_type": "stream",
          "text": [
            "                                                     \r"
          ]
        },
        {
          "data": {
            "text/html": [
              "<div>\n",
              "<style scoped>\n",
              "    .dataframe tbody tr th:only-of-type {\n",
              "        vertical-align: middle;\n",
              "    }\n",
              "\n",
              "    .dataframe tbody tr th {\n",
              "        vertical-align: top;\n",
              "    }\n",
              "\n",
              "    .dataframe thead th {\n",
              "        text-align: right;\n",
              "    }\n",
              "</style>\n",
              "<table border=\"1\" class=\"dataframe\">\n",
              "  <thead>\n",
              "    <tr style=\"text-align: right;\">\n",
              "      <th></th>\n",
              "      <th>Round</th>\n",
              "      <th>Algorithm</th>\n",
              "      <th>N</th>\n",
              "      <th>C</th>\n",
              "      <th>B</th>\n",
              "      <th>E</th>\n",
              "      <th>η</th>\n",
              "      <th>Seed</th>\n",
              "      <th>Message count</th>\n",
              "      <th>Test accuracy</th>\n",
              "    </tr>\n",
              "  </thead>\n",
              "  <tbody>\n",
              "    <tr>\n",
              "      <th>0</th>\n",
              "      <td>1</td>\n",
              "      <td>FedAvg</td>\n",
              "      <td>100</td>\n",
              "      <td>0.2</td>\n",
              "      <td>200</td>\n",
              "      <td>1</td>\n",
              "      <td>0.02</td>\n",
              "      <td>42</td>\n",
              "      <td>40</td>\n",
              "      <td>10.33</td>\n",
              "    </tr>\n",
              "    <tr>\n",
              "      <th>1</th>\n",
              "      <td>2</td>\n",
              "      <td>FedAvg</td>\n",
              "      <td>100</td>\n",
              "      <td>0.2</td>\n",
              "      <td>200</td>\n",
              "      <td>1</td>\n",
              "      <td>0.02</td>\n",
              "      <td>42</td>\n",
              "      <td>80</td>\n",
              "      <td>25.84</td>\n",
              "    </tr>\n",
              "    <tr>\n",
              "      <th>2</th>\n",
              "      <td>3</td>\n",
              "      <td>FedAvg</td>\n",
              "      <td>100</td>\n",
              "      <td>0.2</td>\n",
              "      <td>200</td>\n",
              "      <td>1</td>\n",
              "      <td>0.02</td>\n",
              "      <td>42</td>\n",
              "      <td>120</td>\n",
              "      <td>41.47</td>\n",
              "    </tr>\n",
              "    <tr>\n",
              "      <th>3</th>\n",
              "      <td>4</td>\n",
              "      <td>FedAvg</td>\n",
              "      <td>100</td>\n",
              "      <td>0.2</td>\n",
              "      <td>200</td>\n",
              "      <td>1</td>\n",
              "      <td>0.02</td>\n",
              "      <td>42</td>\n",
              "      <td>160</td>\n",
              "      <td>54.87</td>\n",
              "    </tr>\n",
              "    <tr>\n",
              "      <th>4</th>\n",
              "      <td>5</td>\n",
              "      <td>FedAvg</td>\n",
              "      <td>100</td>\n",
              "      <td>0.2</td>\n",
              "      <td>200</td>\n",
              "      <td>1</td>\n",
              "      <td>0.02</td>\n",
              "      <td>42</td>\n",
              "      <td>200</td>\n",
              "      <td>62.81</td>\n",
              "    </tr>\n",
              "  </tbody>\n",
              "</table>\n",
              "</div>"
            ],
            "text/plain": [
              "   Round Algorithm    N    C    B  E     η  Seed  Message count  Test accuracy\n",
              "0      1    FedAvg  100  0.2  200  1  0.02    42             40          10.33\n",
              "1      2    FedAvg  100  0.2  200  1  0.02    42             80          25.84\n",
              "2      3    FedAvg  100  0.2  200  1  0.02    42            120          41.47\n",
              "3      4    FedAvg  100  0.2  200  1  0.02    42            160          54.87\n",
              "4      5    FedAvg  100  0.2  200  1  0.02    42            200          62.81"
            ]
          },
          "execution_count": 15,
          "metadata": {},
          "output_type": "execute_result"
        }
      ],
      "source": [
        "fedavg_server = FedAvgServer(0.02, 200, sample_split, 0.2, 1, 42)\n",
        "result_fedavg = fedavg_server.run(5)\n",
        "fedavg_df = result_fedavg.as_df()\n",
        "fedavg_df"
      ]
    },
    {
      "cell_type": "markdown",
      "metadata": {
        "id": "BCHdvYSMr-c2"
      },
      "source": [
        "#### Answer"
      ]
    },
    {
      "cell_type": "code",
      "execution_count": 16,
      "metadata": {
        "colab": {
          "base_uri": "https://localhost:8080/",
          "height": 449
        },
        "id": "kKvpsI-0r-c2",
        "outputId": "53635c8a-17bd-4b7c-c800-0590d319d5a7"
      },
      "outputs": [
        {
          "data": {
            "image/png": "[encoded data removed]",
            "text/plain": [
              "<Figure size 640x480 with 1 Axes>"
            ]
          },
          "metadata": {},
          "output_type": "display_data"
        }
      ],
      "source": [
        "import pandas as pd\n",
        "import seaborn as sns\n",
        "\n",
        "df = pd.concat([fedavg_df, fedsgd_gradient_df], ignore_index=True)\n",
        "ax = sns.lineplot(df, x=\"Round\", y=\"Test accuracy\", hue=\"Algorithm\", seed=0)\n",
        "_ = ax.set_xticks(df[\"Round\"].unique())"
      ]
    },
    {
      "cell_type": "code",
      "execution_count": 17,
      "metadata": {
        "id": "XcgJWE8ld4zj"
      },
      "outputs": [],
      "source": [
        "class FedSgdWServer(DecentralizedServer):\n",
        "    def __init__(\n",
        "            self, lr: float, batch_size: int, client_subsets: list[Subset],\n",
        "            client_fraction: float, nr_local_epochs: int, seed: int) -> None:\n",
        "        super().__init__(lr, batch_size, client_subsets, client_fraction, seed)\n",
        "        self.name = \"Fedsgdw\"\n",
        "        self.nr_local_epochs = 1\n",
        "        self.batch_size = b\n",
        "        self.clients = [\n",
        "            WeightClient(subset, lr, batch_size, nr_local_epochs)\n",
        "            for subset in client_subsets]\n",
        "\n",
        "    def run(self, nr_rounds: int) -> RunResult:\n",
        "        elapsed_time = 0.\n",
        "        run_result = RunResult(\n",
        "            self.name, self.nr_clients, self.client_fraction, self.batch_size,\n",
        "            self.nr_local_epochs, self.lr, self.seed)\n",
        "\n",
        "        for nr_round in tqdm(range(nr_rounds), desc=\"Rounds\", leave=False):\n",
        "            setup_start_time = perf_counter()\n",
        "            self.model.train()\n",
        "            weights = [x.detach().cpu().clone() for x in self.model.parameters()]\n",
        "            indices_chosen_clients = self.rng.choice(\n",
        "                self.nr_clients, self.nr_clients_per_round, replace=False)\n",
        "            chosen_sum_nr_samples = sum(\n",
        "                self.client_sample_counts[i] for i in indices_chosen_clients) #total nb of samples from clients, bc clients data not same amount\n",
        "            chosen_adjusted_weights: list[list[torch.Tensor]] = []\n",
        "            elapsed_time += perf_counter() - setup_start_time\n",
        "            update_time = 0.\n",
        "\n",
        "            for c_i in indices_chosen_clients:\n",
        "                update_start_time = perf_counter()\n",
        "                ind = int(c_i)\n",
        "                client_round_seed = self.seed + ind + 1 + nr_round * self.nr_clients_per_round\n",
        "                client_weights = self.clients[ind].update(weights, client_round_seed)\n",
        "                chosen_adjusted_weights.append([\n",
        "                    self.client_sample_counts[ind] / chosen_sum_nr_samples * tens\n",
        "                     for tens in client_weights])\n",
        "                update_time = max(update_time, perf_counter() - update_start_time)\n",
        "\n",
        "            elapsed_time += update_time\n",
        "            aggregate_start_time = perf_counter()\n",
        "            averaged_chosen_weights: list[torch.Tensor] = [\n",
        "                torch.stack(x, dim=0).sum(dim=0) for x in zip(*chosen_adjusted_weights)]\n",
        "\n",
        "            with torch.no_grad():\n",
        "                zip_weight_parameter = zip(averaged_chosen_weights, self.model.parameters())\n",
        "                for client_weight, server_parameter in zip_weight_parameter:\n",
        "                    server_parameter[:] = client_weight.to(device=device)\n",
        "                    #no optimizer since we have weights\n",
        "\n",
        "            elapsed_time += perf_counter() - aggregate_start_time\n",
        "            run_result.wall_time.append(round(elapsed_time, 1))\n",
        "            run_result.message_count.append(2 * (nr_round + 1) * self.nr_clients_per_round)\n",
        "            run_result.test_accuracy.append(self.test())\n",
        "\n",
        "        return run_result"
      ]
    },
    {
      "cell_type": "code",
      "execution_count": 18,
      "metadata": {
        "colab": {
          "base_uri": "https://localhost:8080/",
          "height": 206
        },
        "id": "-ZqiiK15eEXh",
        "outputId": "7f3cf157-e086-4743-f0fd-7c32dba9b607"
      },
      "outputs": [
        {
          "name": "stderr",
          "output_type": "stream",
          "text": [
            "                                                     \r"
          ]
        },
        {
          "data": {
            "text/html": [
              "<div>\n",
              "<style scoped>\n",
              "    .dataframe tbody tr th:only-of-type {\n",
              "        vertical-align: middle;\n",
              "    }\n",
              "\n",
              "    .dataframe tbody tr th {\n",
              "        vertical-align: top;\n",
              "    }\n",
              "\n",
              "    .dataframe thead th {\n",
              "        text-align: right;\n",
              "    }\n",
              "</style>\n",
              "<table border=\"1\" class=\"dataframe\">\n",
              "  <thead>\n",
              "    <tr style=\"text-align: right;\">\n",
              "      <th></th>\n",
              "      <th>Round</th>\n",
              "      <th>Algorithm</th>\n",
              "      <th>N</th>\n",
              "      <th>C</th>\n",
              "      <th>B</th>\n",
              "      <th>E</th>\n",
              "      <th>η</th>\n",
              "      <th>Seed</th>\n",
              "      <th>Message count</th>\n",
              "      <th>Test accuracy</th>\n",
              "    </tr>\n",
              "  </thead>\n",
              "  <tbody>\n",
              "    <tr>\n",
              "      <th>0</th>\n",
              "      <td>1</td>\n",
              "      <td>Fedsgdw</td>\n",
              "      <td>100</td>\n",
              "      <td>0.2</td>\n",
              "      <td>100</td>\n",
              "      <td>1</td>\n",
              "      <td>0.02</td>\n",
              "      <td>42</td>\n",
              "      <td>40</td>\n",
              "      <td>10.33</td>\n",
              "    </tr>\n",
              "    <tr>\n",
              "      <th>1</th>\n",
              "      <td>2</td>\n",
              "      <td>Fedsgdw</td>\n",
              "      <td>100</td>\n",
              "      <td>0.2</td>\n",
              "      <td>100</td>\n",
              "      <td>1</td>\n",
              "      <td>0.02</td>\n",
              "      <td>42</td>\n",
              "      <td>80</td>\n",
              "      <td>25.84</td>\n",
              "    </tr>\n",
              "    <tr>\n",
              "      <th>2</th>\n",
              "      <td>3</td>\n",
              "      <td>Fedsgdw</td>\n",
              "      <td>100</td>\n",
              "      <td>0.2</td>\n",
              "      <td>100</td>\n",
              "      <td>1</td>\n",
              "      <td>0.02</td>\n",
              "      <td>42</td>\n",
              "      <td>120</td>\n",
              "      <td>41.47</td>\n",
              "    </tr>\n",
              "    <tr>\n",
              "      <th>3</th>\n",
              "      <td>4</td>\n",
              "      <td>Fedsgdw</td>\n",
              "      <td>100</td>\n",
              "      <td>0.2</td>\n",
              "      <td>100</td>\n",
              "      <td>1</td>\n",
              "      <td>0.02</td>\n",
              "      <td>42</td>\n",
              "      <td>160</td>\n",
              "      <td>54.87</td>\n",
              "    </tr>\n",
              "    <tr>\n",
              "      <th>4</th>\n",
              "      <td>5</td>\n",
              "      <td>Fedsgdw</td>\n",
              "      <td>100</td>\n",
              "      <td>0.2</td>\n",
              "      <td>100</td>\n",
              "      <td>1</td>\n",
              "      <td>0.02</td>\n",
              "      <td>42</td>\n",
              "      <td>200</td>\n",
              "      <td>62.81</td>\n",
              "    </tr>\n",
              "  </tbody>\n",
              "</table>\n",
              "</div>"
            ],
            "text/plain": [
              "   Round Algorithm    N    C    B  E     η  Seed  Message count  Test accuracy\n",
              "0      1   Fedsgdw  100  0.2  100  1  0.02    42             40          10.33\n",
              "1      2   Fedsgdw  100  0.2  100  1  0.02    42             80          25.84\n",
              "2      3   Fedsgdw  100  0.2  100  1  0.02    42            120          41.47\n",
              "3      4   Fedsgdw  100  0.2  100  1  0.02    42            160          54.87\n",
              "4      5   Fedsgdw  100  0.2  100  1  0.02    42            200          62.81"
            ]
          },
          "execution_count": 18,
          "metadata": {},
          "output_type": "execute_result"
        }
      ],
      "source": [
        "fedsgdw_server = FedSgdWServer(0.02, 200, sample_split, 0.2, 1, 42)\n",
        "result_fedsgdw = fedsgdw_server.run(5)\n",
        "fedsgdw_df = result_fedsgdw.as_df()\n",
        "fedsgdw_df"
      ]
    },
    {
      "cell_type": "code",
      "execution_count": 19,
      "metadata": {
        "id": "wd2oAsWMekJr"
      },
      "outputs": [],
      "source": [
        "lr = 0.01;\n",
        "client_subsets = split(100, True, 10);\n",
        "client_fraction = 0.5;"
      ]
    },
    {
      "cell_type": "code",
      "execution_count": 20,
      "metadata": {
        "colab": {
          "base_uri": "https://localhost:8080/",
          "height": 206
        },
        "id": "ml-GY7PHe18m",
        "outputId": "1977a271-2184-4c74-a186-76b10d26a695"
      },
      "outputs": [
        {
          "name": "stderr",
          "output_type": "stream",
          "text": [
            "                                                     \r"
          ]
        },
        {
          "data": {
            "text/html": [
              "<div>\n",
              "<style scoped>\n",
              "    .dataframe tbody tr th:only-of-type {\n",
              "        vertical-align: middle;\n",
              "    }\n",
              "\n",
              "    .dataframe tbody tr th {\n",
              "        vertical-align: top;\n",
              "    }\n",
              "\n",
              "    .dataframe thead th {\n",
              "        text-align: right;\n",
              "    }\n",
              "</style>\n",
              "<table border=\"1\" class=\"dataframe\">\n",
              "  <thead>\n",
              "    <tr style=\"text-align: right;\">\n",
              "      <th></th>\n",
              "      <th>Round</th>\n",
              "      <th>Algorithm</th>\n",
              "      <th>N</th>\n",
              "      <th>C</th>\n",
              "      <th>B</th>\n",
              "      <th>E</th>\n",
              "      <th>η</th>\n",
              "      <th>Seed</th>\n",
              "      <th>Message count</th>\n",
              "      <th>Test accuracy</th>\n",
              "    </tr>\n",
              "  </thead>\n",
              "  <tbody>\n",
              "    <tr>\n",
              "      <th>0</th>\n",
              "      <td>1</td>\n",
              "      <td>Fedsgdw</td>\n",
              "      <td>100</td>\n",
              "      <td>0.5</td>\n",
              "      <td>100</td>\n",
              "      <td>1</td>\n",
              "      <td>0.01</td>\n",
              "      <td>42</td>\n",
              "      <td>100</td>\n",
              "      <td>9.95</td>\n",
              "    </tr>\n",
              "    <tr>\n",
              "      <th>1</th>\n",
              "      <td>2</td>\n",
              "      <td>Fedsgdw</td>\n",
              "      <td>100</td>\n",
              "      <td>0.5</td>\n",
              "      <td>100</td>\n",
              "      <td>1</td>\n",
              "      <td>0.01</td>\n",
              "      <td>42</td>\n",
              "      <td>200</td>\n",
              "      <td>17.43</td>\n",
              "    </tr>\n",
              "    <tr>\n",
              "      <th>2</th>\n",
              "      <td>3</td>\n",
              "      <td>Fedsgdw</td>\n",
              "      <td>100</td>\n",
              "      <td>0.5</td>\n",
              "      <td>100</td>\n",
              "      <td>1</td>\n",
              "      <td>0.01</td>\n",
              "      <td>42</td>\n",
              "      <td>300</td>\n",
              "      <td>40.49</td>\n",
              "    </tr>\n",
              "    <tr>\n",
              "      <th>3</th>\n",
              "      <td>4</td>\n",
              "      <td>Fedsgdw</td>\n",
              "      <td>100</td>\n",
              "      <td>0.5</td>\n",
              "      <td>100</td>\n",
              "      <td>1</td>\n",
              "      <td>0.01</td>\n",
              "      <td>42</td>\n",
              "      <td>400</td>\n",
              "      <td>53.41</td>\n",
              "    </tr>\n",
              "    <tr>\n",
              "      <th>4</th>\n",
              "      <td>5</td>\n",
              "      <td>Fedsgdw</td>\n",
              "      <td>100</td>\n",
              "      <td>0.5</td>\n",
              "      <td>100</td>\n",
              "      <td>1</td>\n",
              "      <td>0.01</td>\n",
              "      <td>42</td>\n",
              "      <td>500</td>\n",
              "      <td>64.72</td>\n",
              "    </tr>\n",
              "  </tbody>\n",
              "</table>\n",
              "</div>"
            ],
            "text/plain": [
              "   Round Algorithm    N    C    B  E     η  Seed  Message count  Test accuracy\n",
              "0      1   Fedsgdw  100  0.5  100  1  0.01    42            100           9.95\n",
              "1      2   Fedsgdw  100  0.5  100  1  0.01    42            200          17.43\n",
              "2      3   Fedsgdw  100  0.5  100  1  0.01    42            300          40.49\n",
              "3      4   Fedsgdw  100  0.5  100  1  0.01    42            400          53.41\n",
              "4      5   Fedsgdw  100  0.5  100  1  0.01    42            500          64.72"
            ]
          },
          "execution_count": 20,
          "metadata": {},
          "output_type": "execute_result"
        }
      ],
      "source": [
        "fedsgdw_server = FedSgdWServer(lr, b, client_subsets, client_fraction, 1, 42)\n",
        "result_fedsgdw = fedsgdw_server.run(5)\n",
        "fedsgdw_df = result_fedsgdw.as_df()\n",
        "fedsgdw_df"
      ]
    },
    {
      "cell_type": "code",
      "execution_count": 21,
      "metadata": {
        "colab": {
          "base_uri": "https://localhost:8080/",
          "height": 206
        },
        "id": "JeMxQMZCfMJd",
        "outputId": "c8f512e4-d5be-4e12-c1e1-cab400453b9c"
      },
      "outputs": [
        {
          "name": "stderr",
          "output_type": "stream",
          "text": [
            "                                                     \r"
          ]
        },
        {
          "data": {
            "text/html": [
              "<div>\n",
              "<style scoped>\n",
              "    .dataframe tbody tr th:only-of-type {\n",
              "        vertical-align: middle;\n",
              "    }\n",
              "\n",
              "    .dataframe tbody tr th {\n",
              "        vertical-align: top;\n",
              "    }\n",
              "\n",
              "    .dataframe thead th {\n",
              "        text-align: right;\n",
              "    }\n",
              "</style>\n",
              "<table border=\"1\" class=\"dataframe\">\n",
              "  <thead>\n",
              "    <tr style=\"text-align: right;\">\n",
              "      <th></th>\n",
              "      <th>Round</th>\n",
              "      <th>Algorithm</th>\n",
              "      <th>N</th>\n",
              "      <th>C</th>\n",
              "      <th>B</th>\n",
              "      <th>E</th>\n",
              "      <th>η</th>\n",
              "      <th>Seed</th>\n",
              "      <th>Message count</th>\n",
              "      <th>Test accuracy</th>\n",
              "    </tr>\n",
              "  </thead>\n",
              "  <tbody>\n",
              "    <tr>\n",
              "      <th>0</th>\n",
              "      <td>1</td>\n",
              "      <td>FedAvg</td>\n",
              "      <td>100</td>\n",
              "      <td>0.5</td>\n",
              "      <td>100</td>\n",
              "      <td>1</td>\n",
              "      <td>0.01</td>\n",
              "      <td>42</td>\n",
              "      <td>100</td>\n",
              "      <td>9.95</td>\n",
              "    </tr>\n",
              "    <tr>\n",
              "      <th>1</th>\n",
              "      <td>2</td>\n",
              "      <td>FedAvg</td>\n",
              "      <td>100</td>\n",
              "      <td>0.5</td>\n",
              "      <td>100</td>\n",
              "      <td>1</td>\n",
              "      <td>0.01</td>\n",
              "      <td>42</td>\n",
              "      <td>200</td>\n",
              "      <td>17.43</td>\n",
              "    </tr>\n",
              "    <tr>\n",
              "      <th>2</th>\n",
              "      <td>3</td>\n",
              "      <td>FedAvg</td>\n",
              "      <td>100</td>\n",
              "      <td>0.5</td>\n",
              "      <td>100</td>\n",
              "      <td>1</td>\n",
              "      <td>0.01</td>\n",
              "      <td>42</td>\n",
              "      <td>300</td>\n",
              "      <td>40.49</td>\n",
              "    </tr>\n",
              "    <tr>\n",
              "      <th>3</th>\n",
              "      <td>4</td>\n",
              "      <td>FedAvg</td>\n",
              "      <td>100</td>\n",
              "      <td>0.5</td>\n",
              "      <td>100</td>\n",
              "      <td>1</td>\n",
              "      <td>0.01</td>\n",
              "      <td>42</td>\n",
              "      <td>400</td>\n",
              "      <td>53.41</td>\n",
              "    </tr>\n",
              "    <tr>\n",
              "      <th>4</th>\n",
              "      <td>5</td>\n",
              "      <td>FedAvg</td>\n",
              "      <td>100</td>\n",
              "      <td>0.5</td>\n",
              "      <td>100</td>\n",
              "      <td>1</td>\n",
              "      <td>0.01</td>\n",
              "      <td>42</td>\n",
              "      <td>500</td>\n",
              "      <td>64.72</td>\n",
              "    </tr>\n",
              "  </tbody>\n",
              "</table>\n",
              "</div>"
            ],
            "text/plain": [
              "   Round Algorithm    N    C    B  E     η  Seed  Message count  Test accuracy\n",
              "0      1    FedAvg  100  0.5  100  1  0.01    42            100           9.95\n",
              "1      2    FedAvg  100  0.5  100  1  0.01    42            200          17.43\n",
              "2      3    FedAvg  100  0.5  100  1  0.01    42            300          40.49\n",
              "3      4    FedAvg  100  0.5  100  1  0.01    42            400          53.41\n",
              "4      5    FedAvg  100  0.5  100  1  0.01    42            500          64.72"
            ]
          },
          "execution_count": 21,
          "metadata": {},
          "output_type": "execute_result"
        }
      ],
      "source": [
        "fedavg_server = FedAvgServer(lr, b, client_subsets, client_fraction, 1, 42)\n",
        "result_fedavg = fedavg_server.run(5)\n",
        "fedavg_df = result_fedavg.as_df()\n",
        "fedavg_df"
      ]
    },
    {
      "cell_type": "code",
      "execution_count": 22,
      "metadata": {
        "id": "J-wyUYD6e1h_"
      },
      "outputs": [],
      "source": [
        "lr = 0.1;\n",
        "client_subsets = split(50, False, 10);\n",
        "client_fraction = 0.2"
      ]
    },
    {
      "cell_type": "code",
      "execution_count": 23,
      "metadata": {
        "colab": {
          "base_uri": "https://localhost:8080/",
          "height": 206
        },
        "id": "d2S_BNybfW9_",
        "outputId": "b2976fe0-890d-47d0-dd48-9ff48f99e6e5"
      },
      "outputs": [
        {
          "name": "stderr",
          "output_type": "stream",
          "text": [
            "                                                     \r"
          ]
        },
        {
          "data": {
            "text/html": [
              "<div>\n",
              "<style scoped>\n",
              "    .dataframe tbody tr th:only-of-type {\n",
              "        vertical-align: middle;\n",
              "    }\n",
              "\n",
              "    .dataframe tbody tr th {\n",
              "        vertical-align: top;\n",
              "    }\n",
              "\n",
              "    .dataframe thead th {\n",
              "        text-align: right;\n",
              "    }\n",
              "</style>\n",
              "<table border=\"1\" class=\"dataframe\">\n",
              "  <thead>\n",
              "    <tr style=\"text-align: right;\">\n",
              "      <th></th>\n",
              "      <th>Round</th>\n",
              "      <th>Algorithm</th>\n",
              "      <th>N</th>\n",
              "      <th>C</th>\n",
              "      <th>B</th>\n",
              "      <th>E</th>\n",
              "      <th>η</th>\n",
              "      <th>Seed</th>\n",
              "      <th>Message count</th>\n",
              "      <th>Test accuracy</th>\n",
              "    </tr>\n",
              "  </thead>\n",
              "  <tbody>\n",
              "    <tr>\n",
              "      <th>0</th>\n",
              "      <td>1</td>\n",
              "      <td>Fedsgdw</td>\n",
              "      <td>50</td>\n",
              "      <td>0.2</td>\n",
              "      <td>100</td>\n",
              "      <td>1</td>\n",
              "      <td>0.1</td>\n",
              "      <td>42</td>\n",
              "      <td>20</td>\n",
              "      <td>8.92</td>\n",
              "    </tr>\n",
              "    <tr>\n",
              "      <th>1</th>\n",
              "      <td>2</td>\n",
              "      <td>Fedsgdw</td>\n",
              "      <td>50</td>\n",
              "      <td>0.2</td>\n",
              "      <td>100</td>\n",
              "      <td>1</td>\n",
              "      <td>0.1</td>\n",
              "      <td>42</td>\n",
              "      <td>40</td>\n",
              "      <td>34.23</td>\n",
              "    </tr>\n",
              "    <tr>\n",
              "      <th>2</th>\n",
              "      <td>3</td>\n",
              "      <td>Fedsgdw</td>\n",
              "      <td>50</td>\n",
              "      <td>0.2</td>\n",
              "      <td>100</td>\n",
              "      <td>1</td>\n",
              "      <td>0.1</td>\n",
              "      <td>42</td>\n",
              "      <td>60</td>\n",
              "      <td>40.48</td>\n",
              "    </tr>\n",
              "    <tr>\n",
              "      <th>3</th>\n",
              "      <td>4</td>\n",
              "      <td>Fedsgdw</td>\n",
              "      <td>50</td>\n",
              "      <td>0.2</td>\n",
              "      <td>100</td>\n",
              "      <td>1</td>\n",
              "      <td>0.1</td>\n",
              "      <td>42</td>\n",
              "      <td>80</td>\n",
              "      <td>41.98</td>\n",
              "    </tr>\n",
              "    <tr>\n",
              "      <th>4</th>\n",
              "      <td>5</td>\n",
              "      <td>Fedsgdw</td>\n",
              "      <td>50</td>\n",
              "      <td>0.2</td>\n",
              "      <td>100</td>\n",
              "      <td>1</td>\n",
              "      <td>0.1</td>\n",
              "      <td>42</td>\n",
              "      <td>100</td>\n",
              "      <td>54.33</td>\n",
              "    </tr>\n",
              "  </tbody>\n",
              "</table>\n",
              "</div>"
            ],
            "text/plain": [
              "   Round Algorithm   N    C    B  E    η  Seed  Message count  Test accuracy\n",
              "0      1   Fedsgdw  50  0.2  100  1  0.1    42             20           8.92\n",
              "1      2   Fedsgdw  50  0.2  100  1  0.1    42             40          34.23\n",
              "2      3   Fedsgdw  50  0.2  100  1  0.1    42             60          40.48\n",
              "3      4   Fedsgdw  50  0.2  100  1  0.1    42             80          41.98\n",
              "4      5   Fedsgdw  50  0.2  100  1  0.1    42            100          54.33"
            ]
          },
          "execution_count": 23,
          "metadata": {},
          "output_type": "execute_result"
        }
      ],
      "source": [
        "fedsgdw_server = FedSgdWServer(lr, b, client_subsets, client_fraction, 1, 42)\n",
        "result_fedsgdw = fedsgdw_server.run(5)\n",
        "fedsgdw_df = result_fedsgdw.as_df()\n",
        "fedsgdw_df"
      ]
    },
    {
      "cell_type": "code",
      "execution_count": 24,
      "metadata": {
        "colab": {
          "base_uri": "https://localhost:8080/",
          "height": 206
        },
        "id": "ZL5jsLVffYbF",
        "outputId": "98133257-91a3-4c49-959e-35963dd1d65c"
      },
      "outputs": [
        {
          "name": "stderr",
          "output_type": "stream",
          "text": [
            "                                                     \r"
          ]
        },
        {
          "data": {
            "text/html": [
              "<div>\n",
              "<style scoped>\n",
              "    .dataframe tbody tr th:only-of-type {\n",
              "        vertical-align: middle;\n",
              "    }\n",
              "\n",
              "    .dataframe tbody tr th {\n",
              "        vertical-align: top;\n",
              "    }\n",
              "\n",
              "    .dataframe thead th {\n",
              "        text-align: right;\n",
              "    }\n",
              "</style>\n",
              "<table border=\"1\" class=\"dataframe\">\n",
              "  <thead>\n",
              "    <tr style=\"text-align: right;\">\n",
              "      <th></th>\n",
              "      <th>Round</th>\n",
              "      <th>Algorithm</th>\n",
              "      <th>N</th>\n",
              "      <th>C</th>\n",
              "      <th>B</th>\n",
              "      <th>E</th>\n",
              "      <th>η</th>\n",
              "      <th>Seed</th>\n",
              "      <th>Message count</th>\n",
              "      <th>Test accuracy</th>\n",
              "    </tr>\n",
              "  </thead>\n",
              "  <tbody>\n",
              "    <tr>\n",
              "      <th>0</th>\n",
              "      <td>1</td>\n",
              "      <td>FedAvg</td>\n",
              "      <td>50</td>\n",
              "      <td>0.2</td>\n",
              "      <td>100</td>\n",
              "      <td>1</td>\n",
              "      <td>0.1</td>\n",
              "      <td>42</td>\n",
              "      <td>20</td>\n",
              "      <td>8.92</td>\n",
              "    </tr>\n",
              "    <tr>\n",
              "      <th>1</th>\n",
              "      <td>2</td>\n",
              "      <td>FedAvg</td>\n",
              "      <td>50</td>\n",
              "      <td>0.2</td>\n",
              "      <td>100</td>\n",
              "      <td>1</td>\n",
              "      <td>0.1</td>\n",
              "      <td>42</td>\n",
              "      <td>40</td>\n",
              "      <td>34.23</td>\n",
              "    </tr>\n",
              "    <tr>\n",
              "      <th>2</th>\n",
              "      <td>3</td>\n",
              "      <td>FedAvg</td>\n",
              "      <td>50</td>\n",
              "      <td>0.2</td>\n",
              "      <td>100</td>\n",
              "      <td>1</td>\n",
              "      <td>0.1</td>\n",
              "      <td>42</td>\n",
              "      <td>60</td>\n",
              "      <td>40.48</td>\n",
              "    </tr>\n",
              "    <tr>\n",
              "      <th>3</th>\n",
              "      <td>4</td>\n",
              "      <td>FedAvg</td>\n",
              "      <td>50</td>\n",
              "      <td>0.2</td>\n",
              "      <td>100</td>\n",
              "      <td>1</td>\n",
              "      <td>0.1</td>\n",
              "      <td>42</td>\n",
              "      <td>80</td>\n",
              "      <td>41.98</td>\n",
              "    </tr>\n",
              "    <tr>\n",
              "      <th>4</th>\n",
              "      <td>5</td>\n",
              "      <td>FedAvg</td>\n",
              "      <td>50</td>\n",
              "      <td>0.2</td>\n",
              "      <td>100</td>\n",
              "      <td>1</td>\n",
              "      <td>0.1</td>\n",
              "      <td>42</td>\n",
              "      <td>100</td>\n",
              "      <td>54.33</td>\n",
              "    </tr>\n",
              "  </tbody>\n",
              "</table>\n",
              "</div>"
            ],
            "text/plain": [
              "   Round Algorithm   N    C    B  E    η  Seed  Message count  Test accuracy\n",
              "0      1    FedAvg  50  0.2  100  1  0.1    42             20           8.92\n",
              "1      2    FedAvg  50  0.2  100  1  0.1    42             40          34.23\n",
              "2      3    FedAvg  50  0.2  100  1  0.1    42             60          40.48\n",
              "3      4    FedAvg  50  0.2  100  1  0.1    42             80          41.98\n",
              "4      5    FedAvg  50  0.2  100  1  0.1    42            100          54.33"
            ]
          },
          "execution_count": 24,
          "metadata": {},
          "output_type": "execute_result"
        }
      ],
      "source": [
        "fedavg_server = FedAvgServer(lr, b, client_subsets, client_fraction, 1, 42)\n",
        "result_fedavg = fedavg_server.run(5)\n",
        "fedavg_df = result_fedavg.as_df()\n",
        "fedavg_df"
      ]
    },
    {
      "cell_type": "code",
      "execution_count": 25,
      "metadata": {
        "colab": {
          "base_uri": "https://localhost:8080/",
          "height": 206
        },
        "id": "ZhWAR0yKfyxp",
        "outputId": "6b6f3e93-5cf2-4804-8b15-a8a5a4db6c3d"
      },
      "outputs": [
        {
          "name": "stderr",
          "output_type": "stream",
          "text": [
            "                                                     \r"
          ]
        },
        {
          "data": {
            "text/html": [
              "<div>\n",
              "<style scoped>\n",
              "    .dataframe tbody tr th:only-of-type {\n",
              "        vertical-align: middle;\n",
              "    }\n",
              "\n",
              "    .dataframe tbody tr th {\n",
              "        vertical-align: top;\n",
              "    }\n",
              "\n",
              "    .dataframe thead th {\n",
              "        text-align: right;\n",
              "    }\n",
              "</style>\n",
              "<table border=\"1\" class=\"dataframe\">\n",
              "  <thead>\n",
              "    <tr style=\"text-align: right;\">\n",
              "      <th></th>\n",
              "      <th>Round</th>\n",
              "      <th>Algorithm</th>\n",
              "      <th>N</th>\n",
              "      <th>C</th>\n",
              "      <th>B</th>\n",
              "      <th>E</th>\n",
              "      <th>η</th>\n",
              "      <th>Seed</th>\n",
              "      <th>Message count</th>\n",
              "      <th>Test accuracy</th>\n",
              "    </tr>\n",
              "  </thead>\n",
              "  <tbody>\n",
              "    <tr>\n",
              "      <th>0</th>\n",
              "      <td>1</td>\n",
              "      <td>Fedsgdw</td>\n",
              "      <td>50</td>\n",
              "      <td>0.2</td>\n",
              "      <td>100</td>\n",
              "      <td>1</td>\n",
              "      <td>0.1</td>\n",
              "      <td>10</td>\n",
              "      <td>20</td>\n",
              "      <td>9.80</td>\n",
              "    </tr>\n",
              "    <tr>\n",
              "      <th>1</th>\n",
              "      <td>2</td>\n",
              "      <td>Fedsgdw</td>\n",
              "      <td>50</td>\n",
              "      <td>0.2</td>\n",
              "      <td>100</td>\n",
              "      <td>1</td>\n",
              "      <td>0.1</td>\n",
              "      <td>10</td>\n",
              "      <td>40</td>\n",
              "      <td>10.44</td>\n",
              "    </tr>\n",
              "    <tr>\n",
              "      <th>2</th>\n",
              "      <td>3</td>\n",
              "      <td>Fedsgdw</td>\n",
              "      <td>50</td>\n",
              "      <td>0.2</td>\n",
              "      <td>100</td>\n",
              "      <td>1</td>\n",
              "      <td>0.1</td>\n",
              "      <td>10</td>\n",
              "      <td>60</td>\n",
              "      <td>26.33</td>\n",
              "    </tr>\n",
              "    <tr>\n",
              "      <th>3</th>\n",
              "      <td>4</td>\n",
              "      <td>Fedsgdw</td>\n",
              "      <td>50</td>\n",
              "      <td>0.2</td>\n",
              "      <td>100</td>\n",
              "      <td>1</td>\n",
              "      <td>0.1</td>\n",
              "      <td>10</td>\n",
              "      <td>80</td>\n",
              "      <td>50.20</td>\n",
              "    </tr>\n",
              "    <tr>\n",
              "      <th>4</th>\n",
              "      <td>5</td>\n",
              "      <td>Fedsgdw</td>\n",
              "      <td>50</td>\n",
              "      <td>0.2</td>\n",
              "      <td>100</td>\n",
              "      <td>1</td>\n",
              "      <td>0.1</td>\n",
              "      <td>10</td>\n",
              "      <td>100</td>\n",
              "      <td>51.84</td>\n",
              "    </tr>\n",
              "  </tbody>\n",
              "</table>\n",
              "</div>"
            ],
            "text/plain": [
              "   Round Algorithm   N    C    B  E    η  Seed  Message count  Test accuracy\n",
              "0      1   Fedsgdw  50  0.2  100  1  0.1    10             20           9.80\n",
              "1      2   Fedsgdw  50  0.2  100  1  0.1    10             40          10.44\n",
              "2      3   Fedsgdw  50  0.2  100  1  0.1    10             60          26.33\n",
              "3      4   Fedsgdw  50  0.2  100  1  0.1    10             80          50.20\n",
              "4      5   Fedsgdw  50  0.2  100  1  0.1    10            100          51.84"
            ]
          },
          "execution_count": 25,
          "metadata": {},
          "output_type": "execute_result"
        }
      ],
      "source": [
        "fedsgdw_server = FedSgdWServer(lr, b, client_subsets, client_fraction, e, seed)\n",
        "result_fedsgdw = fedsgdw_server.run(5)\n",
        "fedsgdw_df = result_fedsgdw.as_df()\n",
        "fedsgdw_df"
      ]
    },
    {
      "cell_type": "code",
      "execution_count": 26,
      "metadata": {
        "colab": {
          "base_uri": "https://localhost:8080/",
          "height": 206
        },
        "id": "AFvWeFLBgNjB",
        "outputId": "443a06b0-0277-43e6-f6a0-66e65432e0fb"
      },
      "outputs": [
        {
          "name": "stderr",
          "output_type": "stream",
          "text": [
            "                                                     \r"
          ]
        },
        {
          "data": {
            "text/html": [
              "<div>\n",
              "<style scoped>\n",
              "    .dataframe tbody tr th:only-of-type {\n",
              "        vertical-align: middle;\n",
              "    }\n",
              "\n",
              "    .dataframe tbody tr th {\n",
              "        vertical-align: top;\n",
              "    }\n",
              "\n",
              "    .dataframe thead th {\n",
              "        text-align: right;\n",
              "    }\n",
              "</style>\n",
              "<table border=\"1\" class=\"dataframe\">\n",
              "  <thead>\n",
              "    <tr style=\"text-align: right;\">\n",
              "      <th></th>\n",
              "      <th>Round</th>\n",
              "      <th>Algorithm</th>\n",
              "      <th>N</th>\n",
              "      <th>C</th>\n",
              "      <th>B</th>\n",
              "      <th>E</th>\n",
              "      <th>η</th>\n",
              "      <th>Seed</th>\n",
              "      <th>Message count</th>\n",
              "      <th>Test accuracy</th>\n",
              "    </tr>\n",
              "  </thead>\n",
              "  <tbody>\n",
              "    <tr>\n",
              "      <th>0</th>\n",
              "      <td>1</td>\n",
              "      <td>FedAvg</td>\n",
              "      <td>50</td>\n",
              "      <td>0.2</td>\n",
              "      <td>100</td>\n",
              "      <td>1</td>\n",
              "      <td>0.1</td>\n",
              "      <td>10</td>\n",
              "      <td>20</td>\n",
              "      <td>9.80</td>\n",
              "    </tr>\n",
              "    <tr>\n",
              "      <th>1</th>\n",
              "      <td>2</td>\n",
              "      <td>FedAvg</td>\n",
              "      <td>50</td>\n",
              "      <td>0.2</td>\n",
              "      <td>100</td>\n",
              "      <td>1</td>\n",
              "      <td>0.1</td>\n",
              "      <td>10</td>\n",
              "      <td>40</td>\n",
              "      <td>10.44</td>\n",
              "    </tr>\n",
              "    <tr>\n",
              "      <th>2</th>\n",
              "      <td>3</td>\n",
              "      <td>FedAvg</td>\n",
              "      <td>50</td>\n",
              "      <td>0.2</td>\n",
              "      <td>100</td>\n",
              "      <td>1</td>\n",
              "      <td>0.1</td>\n",
              "      <td>10</td>\n",
              "      <td>60</td>\n",
              "      <td>26.33</td>\n",
              "    </tr>\n",
              "    <tr>\n",
              "      <th>3</th>\n",
              "      <td>4</td>\n",
              "      <td>FedAvg</td>\n",
              "      <td>50</td>\n",
              "      <td>0.2</td>\n",
              "      <td>100</td>\n",
              "      <td>1</td>\n",
              "      <td>0.1</td>\n",
              "      <td>10</td>\n",
              "      <td>80</td>\n",
              "      <td>50.20</td>\n",
              "    </tr>\n",
              "    <tr>\n",
              "      <th>4</th>\n",
              "      <td>5</td>\n",
              "      <td>FedAvg</td>\n",
              "      <td>50</td>\n",
              "      <td>0.2</td>\n",
              "      <td>100</td>\n",
              "      <td>1</td>\n",
              "      <td>0.1</td>\n",
              "      <td>10</td>\n",
              "      <td>100</td>\n",
              "      <td>51.84</td>\n",
              "    </tr>\n",
              "  </tbody>\n",
              "</table>\n",
              "</div>"
            ],
            "text/plain": [
              "   Round Algorithm   N    C    B  E    η  Seed  Message count  Test accuracy\n",
              "0      1    FedAvg  50  0.2  100  1  0.1    10             20           9.80\n",
              "1      2    FedAvg  50  0.2  100  1  0.1    10             40          10.44\n",
              "2      3    FedAvg  50  0.2  100  1  0.1    10             60          26.33\n",
              "3      4    FedAvg  50  0.2  100  1  0.1    10             80          50.20\n",
              "4      5    FedAvg  50  0.2  100  1  0.1    10            100          51.84"
            ]
          },
          "execution_count": 26,
          "metadata": {},
          "output_type": "execute_result"
        }
      ],
      "source": [
        "fedavg_server = FedAvgServer(lr, b, client_subsets, client_fraction, e, seed)\n",
        "result_fedavg = fedavg_server.run(5)\n",
        "fedavg_df = result_fedavg.as_df()\n",
        "fedavg_df"
      ]
    },
    {
      "cell_type": "markdown",
      "metadata": {
        "id": "KWFth47qr-c3"
      },
      "source": [
        "### Exercise A2: Client number & fraction (4 points)"
      ]
    },
    {
      "cell_type": "markdown",
      "metadata": {
        "id": "SwPGzB2Sr-c3"
      },
      "source": [
        "#### Question"
      ]
    },
    {
      "cell_type": "markdown",
      "metadata": {
        "id": "NLvtryQvr-c3"
      },
      "source": [
        "_(2 points)_ Run the necessary experiments to fill in the following table showing the final message count and test accuracy of FedSGD and FedAvg for different total client numbers:\n",
        "\n",
        "| Algorithm | N   | C   | Message count | Test accuracy |\n",
        "| --------- | --- | --- | ------------- | ------------- |\n",
        "| FedSGD    | 10  | 0.1 |      20       |     97.91     |\n",
        "| FedAvg    | 10  | 0.1 |      20       |     97.69     |\n",
        "| FedSGD    | 50  | 0.1 |      100      |     94.87     |\n",
        "| FedAvg    | 50  | 0.1 |      100      |     95.06     |\n",
        "| FedSGD    | 100 | 0.1 |      200      |     92.21     |\n",
        "| FedAvg    | 100 | 0.1 |      200      |     91.83     |\n",
        "          \n",
        "\n",
        "Is the relationship between the metrics and client numbers monotonous?\n",
        "\n",
        "_(2 points)_ Run the experiments to fill in the table when varying the fraction of clients used in every round:\n",
        "\n",
        "| Algorithm | N   | C    | Message count | Test accuracy |\n",
        "| --------- | --- | ---- | ------------- | ------------- |\n",
        "| FedSGD    | 100 | 0.01 |     20        | 84.66         |\n",
        "| FedAvg    | 100 | 0.01 |       20      |      82.32    |\n",
        "| FedSGD    | 100 | 0.1  |       200     |   92.21       |\n",
        "| FedAvg    | 100 | 0.1  |       200     |   91.83       |\n",
        "| FedSGD    | 100 | 0.2  |       400     |         91.86 |\n",
        "| FedAvg    | 100 | 0.2  |        400    |      91.99    |\n",
        "\n",
        "\n",
        "How does the observed pattern differ?"
      ]
    },
    {
      "cell_type": "markdown",
      "metadata": {
        "id": "fGGGmgRnr-c3"
      },
      "source": [
        "#### Answer"
      ]
    },
    {
      "cell_type": "code",
      "execution_count": 27,
      "metadata": {
        "colab": {
          "base_uri": "https://localhost:8080/"
        },
        "id": "Pz4HxIXAr-c3",
        "outputId": "07023059-f9d5-4b6a-979e-1ce67a71c0a2"
      },
      "outputs": [
        {
          "name": "stderr",
          "output_type": "stream",
          "text": [
            "                                                       \r"
          ]
        },
        {
          "name": "stdout",
          "output_type": "stream",
          "text": [
            "FedAvg Results:\n",
            "   Round Algorithm   N    C    B  E    η  Seed  Message count  Test accuracy\n",
            "0      1    FedAvg  10  0.1  100  1  0.1    10              2          85.94\n",
            "1      2    FedAvg  10  0.1  100  1  0.1    10              4          94.36\n",
            "2      3    FedAvg  10  0.1  100  1  0.1    10              6          96.04\n",
            "3      4    FedAvg  10  0.1  100  1  0.1    10              8          96.30\n",
            "4      5    FedAvg  10  0.1  100  1  0.1    10             10          96.42\n",
            "5      6    FedAvg  10  0.1  100  1  0.1    10             12          97.05\n",
            "6      7    FedAvg  10  0.1  100  1  0.1    10             14          97.30\n",
            "7      8    FedAvg  10  0.1  100  1  0.1    10             16          97.53\n",
            "8      9    FedAvg  10  0.1  100  1  0.1    10             18          97.77\n",
            "9     10    FedAvg  10  0.1  100  1  0.1    10             20          97.85\n",
            "\n",
            "FedSGD Results:\n",
            "   Round Algorithm   N    C    B  E    η  Seed  Message count  Test accuracy\n",
            "0      1   Fedsgdw  10  0.1  100  1  0.1    10              2          83.22\n",
            "1      2   Fedsgdw  10  0.1  100  1  0.1    10              4          93.44\n",
            "2      3   Fedsgdw  10  0.1  100  1  0.1    10              6          95.68\n",
            "3      4   Fedsgdw  10  0.1  100  1  0.1    10              8          96.29\n",
            "4      5   Fedsgdw  10  0.1  100  1  0.1    10             10          96.76\n",
            "5      6   Fedsgdw  10  0.1  100  1  0.1    10             12          97.33\n",
            "6      7   Fedsgdw  10  0.1  100  1  0.1    10             14          97.56\n",
            "7      8   Fedsgdw  10  0.1  100  1  0.1    10             16          97.49\n",
            "8      9   Fedsgdw  10  0.1  100  1  0.1    10             18          97.59\n",
            "9     10   Fedsgdw  10  0.1  100  1  0.1    10             20          97.72\n"
          ]
        },
        {
          "name": "stderr",
          "output_type": "stream",
          "text": [
            "                                                       \r"
          ]
        },
        {
          "name": "stdout",
          "output_type": "stream",
          "text": [
            "FedAvg Results:\n",
            "   Round Algorithm   N    C    B  E    η  Seed  Message count  Test accuracy\n",
            "0      1    FedAvg  50  0.1  100  1  0.1    10             10          60.98\n",
            "1      2    FedAvg  50  0.1  100  1  0.1    10             20          77.45\n",
            "2      3    FedAvg  50  0.1  100  1  0.1    10             30          87.08\n",
            "3      4    FedAvg  50  0.1  100  1  0.1    10             40          90.58\n",
            "4      5    FedAvg  50  0.1  100  1  0.1    10             50          91.14\n",
            "5      6    FedAvg  50  0.1  100  1  0.1    10             60          92.14\n",
            "6      7    FedAvg  50  0.1  100  1  0.1    10             70          93.67\n",
            "7      8    FedAvg  50  0.1  100  1  0.1    10             80          93.63\n",
            "8      9    FedAvg  50  0.1  100  1  0.1    10             90          94.23\n",
            "9     10    FedAvg  50  0.1  100  1  0.1    10            100          94.95\n",
            "\n",
            "FedSGD Results:\n",
            "   Round Algorithm   N    C    B  E    η  Seed  Message count  Test accuracy\n",
            "0      1   Fedsgdw  50  0.1  100  1  0.1    10             10          63.02\n",
            "1      2   Fedsgdw  50  0.1  100  1  0.1    10             20          72.09\n",
            "2      3   Fedsgdw  50  0.1  100  1  0.1    10             30          85.37\n",
            "3      4   Fedsgdw  50  0.1  100  1  0.1    10             40          89.45\n",
            "4      5   Fedsgdw  50  0.1  100  1  0.1    10             50          90.93\n",
            "5      6   Fedsgdw  50  0.1  100  1  0.1    10             60          92.25\n",
            "6      7   Fedsgdw  50  0.1  100  1  0.1    10             70          93.28\n",
            "7      8   Fedsgdw  50  0.1  100  1  0.1    10             80          93.66\n",
            "8      9   Fedsgdw  50  0.1  100  1  0.1    10             90          94.22\n",
            "9     10   Fedsgdw  50  0.1  100  1  0.1    10            100          94.99\n"
          ]
        },
        {
          "name": "stderr",
          "output_type": "stream",
          "text": [
            "                                                       "
          ]
        },
        {
          "name": "stdout",
          "output_type": "stream",
          "text": [
            "FedAvg Results:\n",
            "   Round Algorithm    N    C    B  E    η  Seed  Message count  Test accuracy\n",
            "0      1    FedAvg  100  0.1  100  1  0.1    10             20          64.43\n",
            "1      2    FedAvg  100  0.1  100  1  0.1    10             40          62.66\n",
            "2      3    FedAvg  100  0.1  100  1  0.1    10             60          78.79\n",
            "3      4    FedAvg  100  0.1  100  1  0.1    10             80          82.76\n",
            "4      5    FedAvg  100  0.1  100  1  0.1    10            100          85.50\n",
            "5      6    FedAvg  100  0.1  100  1  0.1    10            120          81.67\n",
            "6      7    FedAvg  100  0.1  100  1  0.1    10            140          89.66\n",
            "7      8    FedAvg  100  0.1  100  1  0.1    10            160          90.17\n",
            "8      9    FedAvg  100  0.1  100  1  0.1    10            180          89.61\n",
            "9     10    FedAvg  100  0.1  100  1  0.1    10            200          91.57\n",
            "\n",
            "FedSGD Results:\n",
            "   Round Algorithm    N    C    B  E    η  Seed  Message count  Test accuracy\n",
            "0      1   Fedsgdw  100  0.1  100  1  0.1    10             20          68.14\n",
            "1      2   Fedsgdw  100  0.1  100  1  0.1    10             40          57.87\n",
            "2      3   Fedsgdw  100  0.1  100  1  0.1    10             60          71.56\n",
            "3      4   Fedsgdw  100  0.1  100  1  0.1    10             80          80.19\n",
            "4      5   Fedsgdw  100  0.1  100  1  0.1    10            100          87.80\n",
            "5      6   Fedsgdw  100  0.1  100  1  0.1    10            120          86.11\n",
            "6      7   Fedsgdw  100  0.1  100  1  0.1    10            140          86.85\n",
            "7      8   Fedsgdw  100  0.1  100  1  0.1    10            160          89.83\n",
            "8      9   Fedsgdw  100  0.1  100  1  0.1    10            180          89.82\n",
            "9     10   Fedsgdw  100  0.1  100  1  0.1    10            200          91.81\n"
          ]
        },
        {
          "name": "stderr",
          "output_type": "stream",
          "text": [
            "\r"
          ]
        }
      ],
      "source": [
        "n = 10;\n",
        "c = 0.1;\n",
        "client_subsets = split(n, True, 10);\n",
        "# Initialize servers\n",
        "fed_avg_server = FedAvgServer(lr, b, client_subsets, c, e, seed)\n",
        "fed_sgd_server = FedSgdWServer(lr, b, client_subsets, c, e, seed)\n",
        "\n",
        "# Run servers\n",
        "result_fedavg = fed_avg_server.run(nr_rounds)\n",
        "result_fedsgd = fed_sgd_server.run(nr_rounds)\n",
        "\n",
        "# Convert results to DataFrames\n",
        "fedavg_df = result_fedavg.as_df()\n",
        "fedsgd_df = result_fedsgd.as_df()\n",
        "\n",
        "# Display DataFrames\n",
        "print(\"FedAvg Results:\")\n",
        "print(fedavg_df)\n",
        "\n",
        "print(\"\\nFedSGD Results:\")\n",
        "print(fedsgd_df)\n",
        "\n",
        "n = 50;\n",
        "client_subsets = split(n, True, 10);\n",
        "# Initialize servers\n",
        "fed_avg_server = FedAvgServer(lr, b, client_subsets, c, e, seed)\n",
        "fed_sgd_server = FedSgdWServer(lr, b, client_subsets, c,e,  seed)\n",
        "\n",
        "# Run servers\n",
        "result_fedavg = fed_avg_server.run(nr_rounds)\n",
        "result_fedsgd = fed_sgd_server.run(nr_rounds)\n",
        "\n",
        "# Convert results to DataFrames\n",
        "fedavg_df = result_fedavg.as_df()\n",
        "fedsgd_df = result_fedsgd.as_df()\n",
        "\n",
        "# Display DataFrames\n",
        "print(\"FedAvg Results:\")\n",
        "print(fedavg_df)\n",
        "\n",
        "print(\"\\nFedSGD Results:\")\n",
        "print(fedsgd_df)\n",
        "\n",
        "n = 100;\n",
        "client_subsets = split(n, True, 10);\n",
        "\n",
        "# Initialize servers\n",
        "fed_avg_server = FedAvgServer(lr, b, client_subsets, c, e, seed)\n",
        "fed_sgd_server = FedSgdWServer(lr, b, client_subsets, c,e, seed)\n",
        "\n",
        "# Run servers\n",
        "result_fedavg = fed_avg_server.run(nr_rounds)\n",
        "result_fedsgd = fed_sgd_server.run(nr_rounds)\n",
        "\n",
        "# Convert results to DataFrames\n",
        "fedavg_df = result_fedavg.as_df()\n",
        "fedsgd_df = result_fedsgd.as_df()\n",
        "\n",
        "# Display DataFrames\n",
        "print(\"FedAvg Results:\")\n",
        "print(fedavg_df)\n",
        "\n",
        "print(\"\\nFedSGD Results:\")\n",
        "print(fedsgd_df)"
      ]
    },
    {
      "cell_type": "markdown",
      "metadata": {
        "id": "r0VTwdLDr-c3"
      },
      "source": [
        "TODO"
      ]
    },
    {
      "cell_type": "code",
      "execution_count": 28,
      "metadata": {
        "colab": {
          "base_uri": "https://localhost:8080/"
        },
        "id": "zdHw5kQnr-c3",
        "outputId": "9e8c0147-2d9f-4700-b96c-d9e64e7c947e"
      },
      "outputs": [
        {
          "name": "stderr",
          "output_type": "stream",
          "text": [
            "                                                       \r"
          ]
        },
        {
          "name": "stdout",
          "output_type": "stream",
          "text": [
            "\n",
            "FedSGD Results:\n",
            "   Round Algorithm    N     C    B  E    η  Seed  Message count  Test accuracy\n",
            "0      1   Fedsgdw  100  0.01  100  1  0.1    10              2          40.95\n",
            "1      2   Fedsgdw  100  0.01  100  1  0.1    10              4          56.60\n",
            "2      3   Fedsgdw  100  0.01  100  1  0.1    10              6          60.28\n",
            "3      4   Fedsgdw  100  0.01  100  1  0.1    10              8          72.64\n",
            "4      5   Fedsgdw  100  0.01  100  1  0.1    10             10          79.94\n",
            "5      6   Fedsgdw  100  0.01  100  1  0.1    10             12          78.13\n",
            "6      7   Fedsgdw  100  0.01  100  1  0.1    10             14          85.70\n",
            "7      8   Fedsgdw  100  0.01  100  1  0.1    10             16          81.53\n",
            "8      9   Fedsgdw  100  0.01  100  1  0.1    10             18          81.01\n",
            "9     10   Fedsgdw  100  0.01  100  1  0.1    10             20          85.32\n",
            "FedAvg Results:\n",
            "   Round Algorithm    N     C    B  E    η  Seed  Message count  Test accuracy\n",
            "0      1    FedAvg  100  0.01  100  1  0.1    10              2          40.02\n",
            "1      2    FedAvg  100  0.01  100  1  0.1    10              4          37.14\n",
            "2      3    FedAvg  100  0.01  100  1  0.1    10              6          60.75\n",
            "3      4    FedAvg  100  0.01  100  1  0.1    10              8          72.87\n",
            "4      5    FedAvg  100  0.01  100  1  0.1    10             10          71.28\n",
            "5      6    FedAvg  100  0.01  100  1  0.1    10             12          76.90\n",
            "6      7    FedAvg  100  0.01  100  1  0.1    10             14          87.48\n",
            "7      8    FedAvg  100  0.01  100  1  0.1    10             16          87.77\n",
            "8      9    FedAvg  100  0.01  100  1  0.1    10             18          84.40\n",
            "9     10    FedAvg  100  0.01  100  1  0.1    10             20          85.27\n"
          ]
        },
        {
          "name": "stderr",
          "output_type": "stream",
          "text": [
            "                                                       \r"
          ]
        },
        {
          "name": "stdout",
          "output_type": "stream",
          "text": [
            "\n",
            "FedSGD Results:\n",
            "   Round Algorithm    N    C    B  E    η  Seed  Message count  Test accuracy\n",
            "0      1   Fedsgdw  100  0.1  100  1  0.1    10             20          68.14\n",
            "1      2   Fedsgdw  100  0.1  100  1  0.1    10             40          57.87\n",
            "2      3   Fedsgdw  100  0.1  100  1  0.1    10             60          71.56\n",
            "3      4   Fedsgdw  100  0.1  100  1  0.1    10             80          80.19\n",
            "4      5   Fedsgdw  100  0.1  100  1  0.1    10            100          87.80\n",
            "5      6   Fedsgdw  100  0.1  100  1  0.1    10            120          86.11\n",
            "6      7   Fedsgdw  100  0.1  100  1  0.1    10            140          86.85\n",
            "7      8   Fedsgdw  100  0.1  100  1  0.1    10            160          89.83\n",
            "8      9   Fedsgdw  100  0.1  100  1  0.1    10            180          89.82\n",
            "9     10   Fedsgdw  100  0.1  100  1  0.1    10            200          91.81\n",
            "FedAvg Results:\n",
            "   Round Algorithm    N    C    B  E    η  Seed  Message count  Test accuracy\n",
            "0      1    FedAvg  100  0.1  100  1  0.1    10             20          64.43\n",
            "1      2    FedAvg  100  0.1  100  1  0.1    10             40          62.66\n",
            "2      3    FedAvg  100  0.1  100  1  0.1    10             60          78.79\n",
            "3      4    FedAvg  100  0.1  100  1  0.1    10             80          82.76\n",
            "4      5    FedAvg  100  0.1  100  1  0.1    10            100          85.50\n",
            "5      6    FedAvg  100  0.1  100  1  0.1    10            120          81.67\n",
            "6      7    FedAvg  100  0.1  100  1  0.1    10            140          89.66\n",
            "7      8    FedAvg  100  0.1  100  1  0.1    10            160          90.17\n",
            "8      9    FedAvg  100  0.1  100  1  0.1    10            180          89.61\n",
            "9     10    FedAvg  100  0.1  100  1  0.1    10            200          91.57\n"
          ]
        },
        {
          "name": "stderr",
          "output_type": "stream",
          "text": [
            "                                                       "
          ]
        },
        {
          "name": "stdout",
          "output_type": "stream",
          "text": [
            "\n",
            "FedSGD Results:\n",
            "   Round Algorithm    N    C    B  E    η  Seed  Message count  Test accuracy\n",
            "0      1   Fedsgdw  100  0.2  100  1  0.1    10             40          68.30\n",
            "1      2   Fedsgdw  100  0.2  100  1  0.1    10             80          71.26\n",
            "2      3   Fedsgdw  100  0.2  100  1  0.1    10            120          69.76\n",
            "3      4   Fedsgdw  100  0.2  100  1  0.1    10            160          81.87\n",
            "4      5   Fedsgdw  100  0.2  100  1  0.1    10            200          85.64\n",
            "5      6   Fedsgdw  100  0.2  100  1  0.1    10            240          88.29\n",
            "6      7   Fedsgdw  100  0.2  100  1  0.1    10            280          89.20\n",
            "7      8   Fedsgdw  100  0.2  100  1  0.1    10            320          90.67\n",
            "8      9   Fedsgdw  100  0.2  100  1  0.1    10            360          90.90\n",
            "9     10   Fedsgdw  100  0.2  100  1  0.1    10            400          91.89\n",
            "FedAvg Results:\n",
            "   Round Algorithm    N    C    B  E    η  Seed  Message count  Test accuracy\n",
            "0      1    FedAvg  100  0.2  100  1  0.1    10             40          69.90\n",
            "1      2    FedAvg  100  0.2  100  1  0.1    10             80          67.10\n",
            "2      3    FedAvg  100  0.2  100  1  0.1    10            120          69.38\n",
            "3      4    FedAvg  100  0.2  100  1  0.1    10            160          84.49\n",
            "4      5    FedAvg  100  0.2  100  1  0.1    10            200          86.37\n",
            "5      6    FedAvg  100  0.2  100  1  0.1    10            240          87.71\n",
            "6      7    FedAvg  100  0.2  100  1  0.1    10            280          89.50\n",
            "7      8    FedAvg  100  0.2  100  1  0.1    10            320          90.35\n",
            "8      9    FedAvg  100  0.2  100  1  0.1    10            360          91.24\n",
            "9     10    FedAvg  100  0.2  100  1  0.1    10            400          91.98\n"
          ]
        },
        {
          "name": "stderr",
          "output_type": "stream",
          "text": [
            "\r"
          ]
        }
      ],
      "source": [
        "n = 100;\n",
        "c = 0.01;\n",
        "client_subsets = split(n, True, 10);\n",
        "\n",
        "# Initialize servers\n",
        "fed_avg_server = FedAvgServer(lr, b, client_subsets, c, e, seed)\n",
        "fed_sgd_server = FedSgdWServer(lr, b, client_subsets, c, e, seed)\n",
        "result_fedavg = fed_avg_server.run(nr_rounds)\n",
        "result_fedsgd = fed_sgd_server.run(nr_rounds)\n",
        "fedavg_df = result_fedavg.as_df()\n",
        "fedsgd_df = result_fedsgd.as_df()\n",
        "# Display DataFrames\n",
        "print(\"\\nFedSGD Results:\")\n",
        "print(fedsgd_df)\n",
        "print(\"FedAvg Results:\")\n",
        "print(fedavg_df)\n",
        "\n",
        "\n",
        "c = 0.1;\n",
        "# Initialize servers\n",
        "fed_avg_server = FedAvgServer(lr, b, client_subsets, c, e, seed)\n",
        "fed_sgd_server = FedSgdWServer(lr, b, client_subsets, c, e, seed)\n",
        "result_fedavg = fed_avg_server.run(nr_rounds)\n",
        "result_fedsgd = fed_sgd_server.run(nr_rounds)\n",
        "fedavg_df = result_fedavg.as_df()\n",
        "fedsgd_df = result_fedsgd.as_df()\n",
        "# Display DataFrames\n",
        "print(\"\\nFedSGD Results:\")\n",
        "print(fedsgd_df)\n",
        "print(\"FedAvg Results:\")\n",
        "print(fedavg_df)\n",
        "\n",
        "c = 0.2;\n",
        "# Initialize servers\n",
        "fed_avg_server = FedAvgServer(lr, b, client_subsets, c, e, seed)\n",
        "fed_sgd_server = FedSgdWServer(lr, b, client_subsets, c, e, seed)\n",
        "result_fedavg = fed_avg_server.run(nr_rounds)\n",
        "result_fedsgd = fed_sgd_server.run(nr_rounds)\n",
        "fedavg_df = result_fedavg.as_df()\n",
        "fedsgd_df = result_fedsgd.as_df()\n",
        "# Display DataFrames\n",
        "print(\"\\nFedSGD Results:\")\n",
        "print(fedsgd_df)\n",
        "print(\"FedAvg Results:\")\n",
        "print(fedavg_df)"
      ]
    },
    {
      "cell_type": "markdown",
      "metadata": {
        "id": "kTFNH-Vcr-c3"
      },
      "source": [
        "TODO"
      ]
    },
    {
      "cell_type": "markdown",
      "metadata": {
        "id": "vJORivIkr-c4"
      },
      "source": [
        "### Exercise A3: Local epoch count & (non-)IID data (5 points)"
      ]
    },
    {
      "cell_type": "markdown",
      "metadata": {
        "id": "TIqdVtDAr-c4"
      },
      "source": [
        "#### Question"
      ]
    },
    {
      "cell_type": "markdown",
      "metadata": {
        "id": "8uKLC8MMr-c4"
      },
      "source": [
        "_(1 point)_ Create a line plot of the accuracy after each round for the following algorithm variants:\n",
        "\n",
        "- FedSGD\n",
        "- FedAvg (E=1)\n",
        "- FedAvg (E=2)\n",
        "- FedAvg (E=4)\n",
        "\n",
        "How does FedAvg compare to FedSGD? What is the effect of increasing the work clients perform locally for each update in FedAvg?\n",
        "\n",
        "_(2 points)_ Make one line plot of FedSGD and FedAvg under an IID and non-IID split for 15 rounds (leaving all other parameter values as they previously mentioned default). How does the non-IID setting affect the accuracy achieved by the two algorithms? What is the difference in terms of the smoothness of learning?\n",
        "\n",
        "_(2 points)_ Make another plot for only non-IID splits, including the FedSGD and FedAvg configs from before, and add a version for each with a learning rate of 0.001 and client fraction of 0.5. How does the stability of the new variants compare to the old ones? Why do the changes in parameters have the observed effect?"
      ]
    },
    {
      "cell_type": "markdown",
      "metadata": {
        "id": "aGSaWkxmr-c4"
      },
      "source": [
        "#### Answer"
      ]
    },
    {
      "cell_type": "code",
      "execution_count": 29,
      "metadata": {
        "colab": {
          "base_uri": "https://localhost:8080/",
          "height": 449
        },
        "id": "_nYwzvuXr-c4",
        "outputId": "810ceb70-e871-488e-d71c-2ac18c829f90"
      },
      "outputs": [
        {
          "name": "stderr",
          "output_type": "stream",
          "text": [
            "                                                       \r"
          ]
        },
        {
          "data": {
            "image/png": "[encoded data removed]",
            "text/plain": [
              "<Figure size 640x480 with 1 Axes>"
            ]
          },
          "metadata": {},
          "output_type": "display_data"
        }
      ],
      "source": [
        "# Create a line plot of the accuracy after each round for the following algorithm variants:\n",
        "\n",
        "# FedSGD\n",
        "# FedAvg (E=1)\n",
        "# FedAvg (E=2)\n",
        "# FedAvg (E=4)\n",
        "import pandas as pd\n",
        "import seaborn as sns\n",
        "#from tutorial_1a.hfl_complete import *\n",
        "\n",
        "n = 100\n",
        "lr = 0.01\n",
        "c = 0.1\n",
        "e = 1\n",
        "b = 100\n",
        "nr_rounds = 10\n",
        "iid = True\n",
        "seed = 10\n",
        "client_subsets = split(n, iid, seed)\n",
        "\n",
        "fedsgd_server = FedSgdWServer(lr, b, client_subsets, c, e, seed)\n",
        "result_fedsgd = fedsgd_server.run(nr_rounds)\n",
        "fedsgdw_df = result_fedsgd.as_df()\n",
        "\n",
        "fedavg_server1 = FedAvgServer(lr, b, client_subsets, c, e, seed)\n",
        "result_fedavg1 = fedavg_server1.run(nr_rounds)\n",
        "fedavge1_df = result_fedavg1.as_df()\n",
        "\n",
        "\n",
        "fedavg_server2 = FedAvgServer(lr, b, client_subsets, c, 2, seed)\n",
        "result_fedavg2 = fedavg_server2.run(nr_rounds)\n",
        "fedavge2_df = result_fedavg2.as_df()\n",
        "\n",
        "\n",
        "fedavg_server4 = FedAvgServer(lr, b, client_subsets, c, 4, seed)\n",
        "result_fedavg4 = fedavg_server4.run(nr_rounds)\n",
        "fedavge4_df = result_fedavg4.as_df()\n",
        "\n",
        "\n",
        "df = pd.concat([fedsgdw_df, fedavge1_df,fedavge2_df,fedavge4_df], ignore_index=True)\n",
        "ax = sns.lineplot(df, x=\"Round\", y=\"Test accuracy\", hue=\"Algorithm\", seed=0)\n",
        "_ = ax.set_xticks(df[\"Round\"].unique())"
      ]
    },
    {
      "cell_type": "code",
      "execution_count": 30,
      "metadata": {
        "colab": {
          "base_uri": "https://localhost:8080/",
          "height": 564
        },
        "id": "SN4wJstY9io0",
        "outputId": "1b173622-aa14-4fab-925a-3eac7acbee50"
      },
      "outputs": [
        {
          "data": {
            "image/png": "[encoded data removed]",
            "text/plain": [
              "<Figure size 1000x600 with 1 Axes>"
            ]
          },
          "metadata": {},
          "output_type": "display_data"
        }
      ],
      "source": [
        "import matplotlib.pyplot as plt\n",
        "import seaborn as sns\n",
        "\n",
        "# Add an 'Algorithm' column to each DataFrame\n",
        "fedsgdw_df['Algorithm'] = 'FedSGD'\n",
        "fedavge1_df['Algorithm'] = 'FedAvg (E=1)'\n",
        "fedavge2_df['Algorithm'] = 'FedAvg (E=2)'\n",
        "fedavge4_df['Algorithm'] = 'FedAvg (E=4)'\n",
        "\n",
        "# Concatenate all DataFrames\n",
        "df = pd.concat([fedsgdw_df, fedavge1_df, fedavge2_df, fedavge4_df], ignore_index=True)\n",
        "\n",
        "# Plot the results\n",
        "plt.figure(figsize=(10, 6))\n",
        "ax = sns.lineplot(data=df, x=\"Round\", y=\"Test accuracy\", hue=\"Algorithm\", marker='o')\n",
        "ax.set_xticks(df[\"Round\"].unique())\n",
        "ax.set_title('Test Accuracy After Each Round')\n",
        "ax.set_xlabel('Round')\n",
        "ax.set_ylabel('Test Accuracy (%)')\n",
        "plt.legend(title='Algorithm')\n",
        "plt.show()"
      ]
    },
    {
      "cell_type": "markdown",
      "metadata": {
        "id": "nAHjTW3Ir-c4"
      },
      "source": [
        "TODO"
      ]
    },
    {
      "cell_type": "code",
      "execution_count": 31,
      "metadata": {
        "colab": {
          "base_uri": "https://localhost:8080/",
          "height": 449
        },
        "id": "JMxZb8Idr-c4",
        "outputId": "7a2a77eb-9544-41ca-880d-679de31ad7b3"
      },
      "outputs": [
        {
          "name": "stderr",
          "output_type": "stream",
          "text": [
            "                                                       \r"
          ]
        },
        {
          "data": {
            "image/png": "[encoded data removed]",
            "text/plain": [
              "<Figure size 640x480 with 1 Axes>"
            ]
          },
          "metadata": {},
          "output_type": "display_data"
        }
      ],
      "source": [
        "# FedSGD and FedAvg under an IID and non-IID split for 15 rounds\n",
        "\n",
        "\n",
        "n = 100\n",
        "lr = 0.01\n",
        "c = 0.1\n",
        "e = 1\n",
        "b = 100\n",
        "nr_rounds = 15\n",
        "iid = True\n",
        "seed = 10\n",
        "client_subsets = split(n, iid, seed)\n",
        "\n",
        "fedsgd_server = FedSgdWServer(lr, b, client_subsets, c, e, seed)\n",
        "result_fedsgd = fedsgd_server.run(nr_rounds)\n",
        "fedsgdw_df = result_fedsgd.as_df()\n",
        "\n",
        "fedavg_server1 = FedAvgServer(lr, b, client_subsets, c, e, seed)\n",
        "result_fedavg1 = fedavg_server1.run(nr_rounds)\n",
        "fedavg_df = result_fedavg1.as_df()\n",
        "\n",
        "df = pd.concat([fedsgdw_df, fedavg_df], ignore_index=True)\n",
        "ax = sns.lineplot(df, x=\"Round\", y=\"Test accuracy\", hue=\"Algorithm\", seed=seed)\n",
        "_ = ax.set_xticks(df[\"Round\"].unique())\n",
        "\n"
      ]
    },
    {
      "cell_type": "code",
      "execution_count": 32,
      "metadata": {
        "colab": {
          "base_uri": "https://localhost:8080/"
        },
        "id": "V95-4l3trDOl",
        "outputId": "fb189e7f-0a7e-4049-cf80-c0f6d63cdb15"
      },
      "outputs": [
        {
          "name": "stderr",
          "output_type": "stream",
          "text": [
            "                                                       \r"
          ]
        },
        {
          "data": {
            "image/png": "[encoded data removed]",
            "text/plain": [
              "<Figure size 640x480 with 1 Axes>"
            ]
          },
          "metadata": {},
          "output_type": "display_data"
        }
      ],
      "source": [
        "iid = False\n",
        "client_subsets = split(n, iid, seed)\n",
        "fedsgd_server = FedSgdWServer(lr, b, client_subsets, c, e, seed)\n",
        "result_fedsgd = fedsgd_server.run(nr_rounds)\n",
        "fedsgdw_df = result_fedsgd.as_df()\n",
        "\n",
        "fedavg_server1 = FedAvgServer(lr, b, client_subsets, c, e, seed)\n",
        "result_fedavg1 = fedavg_server1.run(nr_rounds)\n",
        "fedavg_df = result_fedavg1.as_df()\n",
        "\n",
        "df2 = pd.concat([fedsgdw_df, fedavg_df], ignore_index=True)\n",
        "ax = sns.lineplot(df2, x=\"Round\", y=\"Test accuracy\", hue=\"Algorithm\", seed=seed)\n",
        "_ = ax.set_xticks(df[\"Round\"].unique())"
      ]
    },
    {
      "cell_type": "markdown",
      "metadata": {
        "id": "Ta12avsjr-c5"
      },
      "source": [
        "TODO"
      ]
    },
    {
      "cell_type": "code",
      "execution_count": 33,
      "metadata": {
        "id": "_HdEVUxLr-c5"
      },
      "outputs": [],
      "source": [
        "# only non-IID splits, including the FedSGD and FedAvg configs from before,\n",
        "# and add a version for each with a learning rate of 0.001 and client fraction of 0.5."
      ]
    },
    {
      "cell_type": "code",
      "execution_count": 34,
      "metadata": {
        "id": "PlDKNJ6mvZcF"
      },
      "outputs": [
        {
          "name": "stderr",
          "output_type": "stream",
          "text": [
            "                                                       \r"
          ]
        },
        {
          "data": {
            "image/png": "[encoded data removed]",
            "text/plain": [
              "<Figure size 640x480 with 1 Axes>"
            ]
          },
          "metadata": {},
          "output_type": "display_data"
        }
      ],
      "source": [
        "\n",
        "n = 100\n",
        "lr = 0.01\n",
        "c = 0.1\n",
        "e = 1\n",
        "b = 100\n",
        "nr_rounds = 15\n",
        "seed = 10\n",
        "iid = False\n",
        "client_subsets = split(n, iid, seed)\n",
        "fedsgd_server = FedSgdWServer(lr, b, client_subsets, c, e, seed)\n",
        "result_fedsgd = fedsgd_server.run(nr_rounds)\n",
        "fedsgdw_df = result_fedsgd.as_df()\n",
        "\n",
        "fedavg_server1 = FedAvgServer(lr, b, client_subsets, c, e, seed)\n",
        "result_fedavg1 = fedavg_server1.run(nr_rounds)\n",
        "fedavg_df = result_fedavg1.as_df()\n",
        "\n",
        "df = pd.concat([fedsgdw_df, fedavg_df], ignore_index=True)\n",
        "ax = sns.lineplot(df, x=\"Round\", y=\"Test accuracy\", hue=\"Algorithm\", seed=seed)\n",
        "_ = ax.set_xticks(df[\"Round\"].unique())\n"
      ]
    },
    {
      "cell_type": "code",
      "execution_count": 35,
      "metadata": {
        "id": "Aw9Hwx1UrJIx"
      },
      "outputs": [
        {
          "name": "stderr",
          "output_type": "stream",
          "text": [
            "                                                       \r"
          ]
        },
        {
          "data": {
            "image/png": "[encoded data removed]",
            "text/plain": [
              "<Figure size 640x480 with 1 Axes>"
            ]
          },
          "metadata": {},
          "output_type": "display_data"
        }
      ],
      "source": [
        "\n",
        "\n",
        "lr = 0.001\n",
        "c = 0.5\n",
        "client_subsets = split(n, iid, seed)\n",
        "\n",
        "fedsgd_server = FedSgdWServer(lr, b, client_subsets, c, e, seed)\n",
        "result_fedsgd = fedsgd_server.run(nr_rounds)\n",
        "fedsgdw_df = result_fedsgd.as_df()\n",
        "\n",
        "fedavg_server1 = FedAvgServer(lr, b, client_subsets, c, e, seed)\n",
        "result_fedavg1 = fedavg_server1.run(nr_rounds)\n",
        "fedavg_df = result_fedavg1.as_df()\n",
        "\n",
        "df2 = pd.concat([fedsgdw_df, fedavg_df], ignore_index=True)\n",
        "ax = sns.lineplot(df2, x=\"Round\", y=\"Test accuracy\", hue=\"Algorithm\", seed=seed)\n",
        "_ = ax.set_xticks(df[\"Round\"].unique())"
      ]
    },
    {
      "cell_type": "markdown",
      "metadata": {
        "id": "EeJzG6Pyr-c5"
      },
      "source": [
        "TODO"
      ]
    },
    {
      "cell_type": "markdown",
      "metadata": {
        "id": "YWFOKVxwr-c5"
      },
      "source": [
        "## Part B (12 points)"
      ]
    },
    {
      "cell_type": "markdown",
      "metadata": {
        "id": "fwQqTwL8r-c5"
      },
      "source": [
        "### Exercise B1: Microbatch Pipeline Model Parallelism (7 points)"
      ]
    },
    {
      "cell_type": "markdown",
      "metadata": {
        "id": "vmk4qjyPr-c5"
      },
      "source": [
        "Implement pipeline parallelism with microbatches, as discussed during the lab.\n",
        "\n",
        "As with the other data/model parallelism examples, you will need a Python script for the nodes and a shell script to orchestrate execution.\n",
        "\n",
        "Be aware of the possibility of deadlocks: due to how `gloo` operates, it is possible to deadlock by having device 1 send $B_2$ to device 2 in the forward pass, and simultaneously, device 2 send $B_1$ in the backward pass.\n",
        "Since both operations will await a corresponding receive the training will stop indefinitely.\n",
        "\n",
        "Use `isend` & `irecv`, the asynchronous (non-blocking) versions of `send` & `recv` in `torch.distributed`.\n",
        "Add comments or text explaining how you expect your implementation to work and test that it runs for the same number of steps and model architecture as in class.\n",
        "\n",
        "Note that `torch.distributed`'s implementation of `gloo` does not currently support properly asynchronous communication even when using the corresponding primitives.\n",
        "Thus, you will not see the same improvements in speed as with a backend like `nccl`.\n",
        "\n",
        "You may also take advantage of the fact that `torch` gradients naturally accumulate if zeroed out.\n",
        "Also, scaling the loss by a constant is equivalent to scaling the resulting gradients by the same constant."
      ]
    },
    {
      "cell_type": "markdown",
      "metadata": {
        "id": "QmWaQhUlr-c5"
      },
      "source": [
        "### Exercise B2: Joint Data & Model Parallelism (5 points)"
      ]
    },
    {
      "cell_type": "markdown",
      "metadata": {
        "id": "Ib4O6KBtr-c5"
      },
      "source": [
        "Implement a training setup that uses data and model parallelism together.\n",
        "\n",
        "Create 2 pipelines of 3 stages running sequentially, where each stage works with 3 sequential micro-batches.\n",
        "\n",
        "Once again, add comments or text explaining your implementation and test it on the setting that mimics those from the class.\n",
        "\n",
        "You can use groups from `torch.distributed` to handle operations that require interaction between a subset of more than two but less than all workers."
      ]
    },
    {
      "cell_type": "markdown",
      "metadata": {
        "id": "nfMGxS7qr-c5"
      },
      "source": []
    }
  ],
  "metadata": {
    "accelerator": "GPU",
    "colab": {
      "collapsed_sections": [
        "7h1Wpf_JEbFg",
        "ztg3jus7ElAF",
        "rN_1_pl7KbEI",
        "Em2EwsRfKoIE",
        "g4RUHaYFKu-N"
      ],
      "gpuType": "T4",
      "provenance": []
    },
    "kernelspec": {
      "display_name": ".venv",
      "language": "python",
      "name": "python3"
    },
    "language_info": {
      "codemirror_mode": {
        "name": "ipython",
        "version": 3
      },
      "file_extension": ".py",
      "mimetype": "text/x-python",
      "name": "python",
      "nbconvert_exporter": "python",
      "pygments_lexer": "ipython3",
      "version": "3.12.6"
    }
  },
  "nbformat": 4,
  "nbformat_minor": 0
}
