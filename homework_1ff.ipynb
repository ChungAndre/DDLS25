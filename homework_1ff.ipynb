{
  "cells": [
    {
      "cell_type": "markdown",
      "metadata": {
        "id": "2ZE7-2XfjzzX"
      },
      "source": [
        "# Homework 1"
      ]
    },
    {
      "cell_type": "markdown",
      "metadata": {
        "id": "xjbHq3p6jzzY"
      },
      "source": [
        "## Instructions"
      ]
    },
    {
      "cell_type": "markdown",
      "metadata": {
        "id": "8dofGF-7jzzZ"
      },
      "source": [
        "First, ensure you have cloned the [course repository](https://github.com/lydiaYchen/DDL25Spring).\n",
        "\n",
        "Then, open the [interactive notebook version](https://github.com/lydiaYchen/DDL25Spring/blob/main/lab/homework-1.ipynb) of this homework from your local copy.\n",
        "\n",
        "For part A, fill in the code and answers within the notebook and save your changes.\n",
        "\n",
        "For part B, create and archive the necessary Python/shell scripts together.\n",
        "\n",
        "Finally, upload the notebook and the archive to the assignment in ILIAS."
      ]
    },
    {
      "cell_type": "markdown",
      "metadata": {
        "id": "B6F4RBi-jzzZ"
      },
      "source": [
        "## Part A (12 points)"
      ]
    },
    {
      "cell_type": "markdown",
      "metadata": {
        "id": "Xlhtdh9CjzzZ"
      },
      "source": [
        "### Note"
      ]
    },
    {
      "cell_type": "markdown",
      "metadata": {
        "id": "7LCkM6ayjzzZ"
      },
      "source": [
        "When not otherwise specified, use the following parameter values in experiment runs:\n",
        "- `nr_clients` (N): 100\n",
        "- `lr`: 0.01\n",
        "- `client_fraction` (C): 0.1\n",
        "- `nr_local_epochs` (E): 1\n",
        "- `batch_size` (B): 100\n",
        "- `nr_rounds`: 10\n",
        "- `iid`: True\n",
        "\n",
        "For all exercises, pass `seed = 10` to calls for splitting data, server initialization, or plotting."
      ]
    },
    {
      "cell_type": "code",
      "execution_count": 1,
      "metadata": {
        "colab": {
          "base_uri": "https://localhost:8080/"
        },
        "id": "_ituVXONjzzZ",
        "outputId": "880d1840-64ae-4fcc-eff0-1feea7f14c96"
      },
      "outputs": [],
      "source": [
        "import pandas as pd\n",
        "import seaborn as sns\n",
        "from lab.tutorial_1a.hfl_complete import *\n",
        "\n",
        "n = 100\n",
        "lr = 0.01\n",
        "c = 0.1\n",
        "e = 1\n",
        "b = 100\n",
        "nr_rounds = 10\n",
        "iid = True\n",
        "seed = 10"
      ]
    },
    {
      "cell_type": "markdown",
      "metadata": {
        "id": "mm_TQY31jzza"
      },
      "source": [
        "### Exercise A1: FedSGD with weights (3 points)"
      ]
    },
    {
      "cell_type": "markdown",
      "metadata": {
        "id": "6zXQi0mTjzza"
      },
      "source": [
        "#### Question"
      ]
    },
    {
      "cell_type": "markdown",
      "metadata": {
        "id": "a_d0obm3jzza"
      },
      "source": [
        "_(2 points)_ Implement a version of FedSGD that uses weights in its updates, like FedAvg, instead of the gradients from the version of the tutorials. The two FedSGD versions should have the same test accuracy after each round (with a tolerance of up to around 0.1%). To show this, compare their output for the following two scenarios over *5 rounds*:\n",
        "- `lr = 0.01, client_subsets = split(100, True, ...), client_fraction = 0.5`\n",
        "- `lr = 0.1, client_subsets = split(50, False, ...), client_fraction = 0.2`\n",
        "\n",
        "*Tip:* You can use the existing FedAvg implementation to minimize the amount of code writing required.\n",
        "\n",
        "_(1 point)_ Explain in which cases (for the different decentralized data learning parameters) weight and gradient FedSGD are equivalent."
      ]
    },
    {
      "cell_type": "markdown",
      "metadata": {
        "id": "t9jrgWpjjzza"
      },
      "source": [
        "#### Answer"
      ]
    },
    {
      "cell_type": "code",
      "execution_count": 2,
      "metadata": {
        "colab": {
          "base_uri": "https://localhost:8080/",
          "height": 70
        },
        "id": "TU1lznASjzza",
        "outputId": "973e49fe-e14e-431a-82b0-eff2987cd09c"
      },
      "outputs": [
        {
          "data": {
            "text/plain": [
              "'\\nclass FedSGDServer(FedAvgServer):\\n    def __init__(\\n            self, lr: float, batch_size: int, client_subsets: list[Subset],\\n            client_fraction: float, nr_local_epochs: int, seed: int) -> None:\\n        super().__init__(lr, batch_size, client_subsets, client_fraction, nr_local_epochs, seed)\\n        self.name = \"FedSGD\"\\n        # Set the number of local epochs to 1 and batch size to the given batch size\\n        self.nr_local_epochs = 1\\n        self.batch_size = b\\n        self.clients = [\\n            WeightClient(subset, lr, self.batch_size, self.nr_local_epochs)\\n            for subset in client_subsets]\\n'"
            ]
          },
          "execution_count": 2,
          "metadata": {},
          "output_type": "execute_result"
        }
      ],
      "source": [
        "\"\"\"\n",
        "class FedSGDServer(FedAvgServer):\n",
        "    def __init__(\n",
        "            self, lr: float, batch_size: int, client_subsets: list[Subset],\n",
        "            client_fraction: float, nr_local_epochs: int, seed: int) -> None:\n",
        "        super().__init__(lr, batch_size, client_subsets, client_fraction, nr_local_epochs, seed)\n",
        "        self.name = \"FedSGD\"\n",
        "        # Set the number of local epochs to 1 and batch size to the given batch size\n",
        "        self.nr_local_epochs = 1\n",
        "        self.batch_size = b\n",
        "        self.clients = [\n",
        "            WeightClient(subset, lr, self.batch_size, self.nr_local_epochs)\n",
        "            for subset in client_subsets]\n",
        "\"\"\""
      ]
    },
    {
      "cell_type": "code",
      "execution_count": 2,
      "metadata": {
        "id": "rTFP1V7hjzzb"
      },
      "outputs": [],
      "source": [
        "class FedSGDServer(DecentralizedServer):\n",
        "    def __init__(\n",
        "            self, lr: float, batch_size: int, client_subsets: list[Subset],\n",
        "            client_fraction: float, nr_local_epochs: int, seed: int) -> None:\n",
        "        super().__init__(lr, batch_size, client_subsets, client_fraction, seed)\n",
        "        # Set the name of the server\n",
        "        self.name = \"FedSGD\"\n",
        "        # Set the number of local epochs\n",
        "        self.nr_local_epochs = nr_local_epochs\n",
        "        # Initialize the clients with their respective subsets, learning rate, batch size, and number of local epochs\n",
        "        self.clients = [\n",
        "            WeightClient(subset, lr, b, 1)\n",
        "            for subset in client_subsets]\n",
        "\n",
        "    def run(self, nr_rounds: int) -> RunResult:\n",
        "        elapsed_time = 0.\n",
        "        run_result = RunResult(\n",
        "            self.name, self.nr_clients, self.client_fraction, self.batch_size,\n",
        "            self.nr_local_epochs, self.lr, self.seed)\n",
        "\n",
        "        # Iterate over the number of rounds\n",
        "        for nr_round in tqdm(range(nr_rounds), desc=\"Rounds\", leave=False):\n",
        "            setup_start_time = perf_counter()\n",
        "            self.model.train()\n",
        "            weights = [x.detach().cpu().clone() for x in self.model.parameters()]\n",
        "            indices_chosen_clients = self.rng.choice(\n",
        "                self.nr_clients, self.nr_clients_per_round, replace=False)\n",
        "            chosen_sum_nr_samples = sum(\n",
        "                self.client_sample_counts[i] for i in indices_chosen_clients)\n",
        "            chosen_adjusted_weights: list[list[torch.Tensor]] = []\n",
        "            elapsed_time += perf_counter() - setup_start_time\n",
        "            update_time = 0.\n",
        "\n",
        "            # Iterate over the chosen clients\n",
        "            for c_i in indices_chosen_clients:\n",
        "                update_start_time = perf_counter()\n",
        "                ind = int(c_i)\n",
        "                client_round_seed = self.seed + ind + 1 + nr_round * self.nr_clients_per_round\n",
        "                client_weights = self.clients[ind].update(weights, client_round_seed)\n",
        "                chosen_adjusted_weights.append([\n",
        "                    self.client_sample_counts[ind] / chosen_sum_nr_samples * tens\n",
        "                     for tens in client_weights])\n",
        "                update_time = max(update_time, perf_counter() - update_start_time)\n",
        "\n",
        "            # Update the elapsed time\n",
        "            elapsed_time += update_time\n",
        "            aggregate_start_time = perf_counter()\n",
        "            averaged_chosen_weights: list[torch.Tensor] = [\n",
        "                torch.stack(x, dim=0).sum(dim=0) for x in zip(*chosen_adjusted_weights)]\n",
        "\n",
        "            # Update the server's model with the averaged weights\n",
        "            with torch.no_grad():\n",
        "                zip_weight_parameter = zip(averaged_chosen_weights, self.model.parameters())\n",
        "                for client_weight, server_parameter in zip_weight_parameter:\n",
        "                    server_parameter[:] = client_weight.to(device=device)\n",
        "\n",
        "            # Update the elapsed time\n",
        "            elapsed_time += perf_counter() - aggregate_start_time\n",
        "            run_result.wall_time.append(round(elapsed_time, 1))\n",
        "            run_result.message_count.append(2 * (nr_round + 1) * self.nr_clients_per_round)\n",
        "            run_result.test_accuracy.append(self.test())\n",
        "\n",
        "        # Return the run result\n",
        "        return run_result"
      ]
    },
    {
      "cell_type": "code",
      "execution_count": 4,
      "metadata": {
        "colab": {
          "base_uri": "https://localhost:8080/",
          "height": 206
        },
        "id": "fY8GiQ7djzzb",
        "outputId": "83e91fea-36fe-4890-be2f-6c9e6bd9af97"
      },
      "outputs": [
        {
          "name": "stderr",
          "output_type": "stream",
          "text": [
            "                                                     \r"
          ]
        },
        {
          "data": {
            "text/html": [
              "<div>\n",
              "<style scoped>\n",
              "    .dataframe tbody tr th:only-of-type {\n",
              "        vertical-align: middle;\n",
              "    }\n",
              "\n",
              "    .dataframe tbody tr th {\n",
              "        vertical-align: top;\n",
              "    }\n",
              "\n",
              "    .dataframe thead th {\n",
              "        text-align: right;\n",
              "    }\n",
              "</style>\n",
              "<table border=\"1\" class=\"dataframe\">\n",
              "  <thead>\n",
              "    <tr style=\"text-align: right;\">\n",
              "      <th></th>\n",
              "      <th>Round</th>\n",
              "      <th>Algorithm</th>\n",
              "      <th>N</th>\n",
              "      <th>C</th>\n",
              "      <th>B</th>\n",
              "      <th>E</th>\n",
              "      <th>η</th>\n",
              "      <th>Seed</th>\n",
              "      <th>Message count</th>\n",
              "      <th>Test accuracy</th>\n",
              "    </tr>\n",
              "  </thead>\n",
              "  <tbody>\n",
              "    <tr>\n",
              "      <th>0</th>\n",
              "      <td>1</td>\n",
              "      <td>FedAvg</td>\n",
              "      <td>100</td>\n",
              "      <td>0.5</td>\n",
              "      <td>100</td>\n",
              "      <td>1</td>\n",
              "      <td>0.01</td>\n",
              "      <td>10</td>\n",
              "      <td>100</td>\n",
              "      <td>31.26</td>\n",
              "    </tr>\n",
              "    <tr>\n",
              "      <th>1</th>\n",
              "      <td>2</td>\n",
              "      <td>FedAvg</td>\n",
              "      <td>100</td>\n",
              "      <td>0.5</td>\n",
              "      <td>100</td>\n",
              "      <td>1</td>\n",
              "      <td>0.01</td>\n",
              "      <td>10</td>\n",
              "      <td>200</td>\n",
              "      <td>45.76</td>\n",
              "    </tr>\n",
              "    <tr>\n",
              "      <th>2</th>\n",
              "      <td>3</td>\n",
              "      <td>FedAvg</td>\n",
              "      <td>100</td>\n",
              "      <td>0.5</td>\n",
              "      <td>100</td>\n",
              "      <td>1</td>\n",
              "      <td>0.01</td>\n",
              "      <td>10</td>\n",
              "      <td>300</td>\n",
              "      <td>54.13</td>\n",
              "    </tr>\n",
              "    <tr>\n",
              "      <th>3</th>\n",
              "      <td>4</td>\n",
              "      <td>FedAvg</td>\n",
              "      <td>100</td>\n",
              "      <td>0.5</td>\n",
              "      <td>100</td>\n",
              "      <td>1</td>\n",
              "      <td>0.01</td>\n",
              "      <td>10</td>\n",
              "      <td>400</td>\n",
              "      <td>63.45</td>\n",
              "    </tr>\n",
              "    <tr>\n",
              "      <th>4</th>\n",
              "      <td>5</td>\n",
              "      <td>FedAvg</td>\n",
              "      <td>100</td>\n",
              "      <td>0.5</td>\n",
              "      <td>100</td>\n",
              "      <td>1</td>\n",
              "      <td>0.01</td>\n",
              "      <td>10</td>\n",
              "      <td>500</td>\n",
              "      <td>67.25</td>\n",
              "    </tr>\n",
              "  </tbody>\n",
              "</table>\n",
              "</div>"
            ],
            "text/plain": [
              "   Round Algorithm    N    C    B  E     η  Seed  Message count  Test accuracy\n",
              "0      1    FedAvg  100  0.5  100  1  0.01    10            100          31.26\n",
              "1      2    FedAvg  100  0.5  100  1  0.01    10            200          45.76\n",
              "2      3    FedAvg  100  0.5  100  1  0.01    10            300          54.13\n",
              "3      4    FedAvg  100  0.5  100  1  0.01    10            400          63.45\n",
              "4      5    FedAvg  100  0.5  100  1  0.01    10            500          67.25"
            ]
          },
          "execution_count": 4,
          "metadata": {},
          "output_type": "execute_result"
        }
      ],
      "source": [
        "lr = 0.01\n",
        "c = 0.5\n",
        "n = 100\n",
        "nr_rounds = 5\n",
        "client_subsets = split(n, True, seed)\n",
        "\n",
        "fedavg_server = FedAvgServer(lr, b, client_subsets, c, e,seed)\n",
        "result_fedavg = fedavg_server.run(5)\n",
        "fedavg_df = result_fedavg.as_df()\n",
        "fedavg_df"
      ]
    },
    {
      "cell_type": "code",
      "execution_count": 5,
      "metadata": {
        "colab": {
          "base_uri": "https://localhost:8080/",
          "height": 206
        },
        "id": "T-693ZPMjzzb",
        "outputId": "3d8ff42b-724d-4be2-b503-ef7b77ddd485"
      },
      "outputs": [
        {
          "name": "stderr",
          "output_type": "stream",
          "text": [
            "                                                     \r"
          ]
        },
        {
          "data": {
            "text/html": [
              "<div>\n",
              "<style scoped>\n",
              "    .dataframe tbody tr th:only-of-type {\n",
              "        vertical-align: middle;\n",
              "    }\n",
              "\n",
              "    .dataframe tbody tr th {\n",
              "        vertical-align: top;\n",
              "    }\n",
              "\n",
              "    .dataframe thead th {\n",
              "        text-align: right;\n",
              "    }\n",
              "</style>\n",
              "<table border=\"1\" class=\"dataframe\">\n",
              "  <thead>\n",
              "    <tr style=\"text-align: right;\">\n",
              "      <th></th>\n",
              "      <th>Round</th>\n",
              "      <th>Algorithm</th>\n",
              "      <th>N</th>\n",
              "      <th>C</th>\n",
              "      <th>B</th>\n",
              "      <th>E</th>\n",
              "      <th>η</th>\n",
              "      <th>Seed</th>\n",
              "      <th>Message count</th>\n",
              "      <th>Test accuracy</th>\n",
              "    </tr>\n",
              "  </thead>\n",
              "  <tbody>\n",
              "    <tr>\n",
              "      <th>0</th>\n",
              "      <td>1</td>\n",
              "      <td>FedSGD</td>\n",
              "      <td>100</td>\n",
              "      <td>0.5</td>\n",
              "      <td>100</td>\n",
              "      <td>1</td>\n",
              "      <td>0.01</td>\n",
              "      <td>10</td>\n",
              "      <td>100</td>\n",
              "      <td>31.26</td>\n",
              "    </tr>\n",
              "    <tr>\n",
              "      <th>1</th>\n",
              "      <td>2</td>\n",
              "      <td>FedSGD</td>\n",
              "      <td>100</td>\n",
              "      <td>0.5</td>\n",
              "      <td>100</td>\n",
              "      <td>1</td>\n",
              "      <td>0.01</td>\n",
              "      <td>10</td>\n",
              "      <td>200</td>\n",
              "      <td>45.76</td>\n",
              "    </tr>\n",
              "    <tr>\n",
              "      <th>2</th>\n",
              "      <td>3</td>\n",
              "      <td>FedSGD</td>\n",
              "      <td>100</td>\n",
              "      <td>0.5</td>\n",
              "      <td>100</td>\n",
              "      <td>1</td>\n",
              "      <td>0.01</td>\n",
              "      <td>10</td>\n",
              "      <td>300</td>\n",
              "      <td>54.13</td>\n",
              "    </tr>\n",
              "    <tr>\n",
              "      <th>3</th>\n",
              "      <td>4</td>\n",
              "      <td>FedSGD</td>\n",
              "      <td>100</td>\n",
              "      <td>0.5</td>\n",
              "      <td>100</td>\n",
              "      <td>1</td>\n",
              "      <td>0.01</td>\n",
              "      <td>10</td>\n",
              "      <td>400</td>\n",
              "      <td>63.45</td>\n",
              "    </tr>\n",
              "    <tr>\n",
              "      <th>4</th>\n",
              "      <td>5</td>\n",
              "      <td>FedSGD</td>\n",
              "      <td>100</td>\n",
              "      <td>0.5</td>\n",
              "      <td>100</td>\n",
              "      <td>1</td>\n",
              "      <td>0.01</td>\n",
              "      <td>10</td>\n",
              "      <td>500</td>\n",
              "      <td>67.25</td>\n",
              "    </tr>\n",
              "  </tbody>\n",
              "</table>\n",
              "</div>"
            ],
            "text/plain": [
              "   Round Algorithm    N    C    B  E     η  Seed  Message count  Test accuracy\n",
              "0      1    FedSGD  100  0.5  100  1  0.01    10            100          31.26\n",
              "1      2    FedSGD  100  0.5  100  1  0.01    10            200          45.76\n",
              "2      3    FedSGD  100  0.5  100  1  0.01    10            300          54.13\n",
              "3      4    FedSGD  100  0.5  100  1  0.01    10            400          63.45\n",
              "4      5    FedSGD  100  0.5  100  1  0.01    10            500          67.25"
            ]
          },
          "execution_count": 5,
          "metadata": {},
          "output_type": "execute_result"
        }
      ],
      "source": [
        "fedsgdw_server = FedSGDServer(lr, b, client_subsets, c, e, seed)\n",
        "result_fedsgdw = fedsgdw_server.run(5)\n",
        "fedsgdw_df = result_fedsgdw.as_df()\n",
        "fedsgdw_df"
      ]
    },
    {
      "cell_type": "code",
      "execution_count": 6,
      "metadata": {
        "colab": {
          "base_uri": "https://localhost:8080/",
          "height": 206
        },
        "id": "VQwJoFpUjzzc",
        "outputId": "1ceca890-0b0f-4e7c-9770-af9e04808af7"
      },
      "outputs": [
        {
          "name": "stderr",
          "output_type": "stream",
          "text": [
            "                                                     \r"
          ]
        },
        {
          "data": {
            "text/html": [
              "<div>\n",
              "<style scoped>\n",
              "    .dataframe tbody tr th:only-of-type {\n",
              "        vertical-align: middle;\n",
              "    }\n",
              "\n",
              "    .dataframe tbody tr th {\n",
              "        vertical-align: top;\n",
              "    }\n",
              "\n",
              "    .dataframe thead th {\n",
              "        text-align: right;\n",
              "    }\n",
              "</style>\n",
              "<table border=\"1\" class=\"dataframe\">\n",
              "  <thead>\n",
              "    <tr style=\"text-align: right;\">\n",
              "      <th></th>\n",
              "      <th>Round</th>\n",
              "      <th>Algorithm</th>\n",
              "      <th>N</th>\n",
              "      <th>C</th>\n",
              "      <th>B</th>\n",
              "      <th>E</th>\n",
              "      <th>η</th>\n",
              "      <th>Seed</th>\n",
              "      <th>Message count</th>\n",
              "      <th>Test accuracy</th>\n",
              "    </tr>\n",
              "  </thead>\n",
              "  <tbody>\n",
              "    <tr>\n",
              "      <th>0</th>\n",
              "      <td>1</td>\n",
              "      <td>FedAvg</td>\n",
              "      <td>50</td>\n",
              "      <td>0.2</td>\n",
              "      <td>100</td>\n",
              "      <td>1</td>\n",
              "      <td>0.1</td>\n",
              "      <td>10</td>\n",
              "      <td>20</td>\n",
              "      <td>14.26</td>\n",
              "    </tr>\n",
              "    <tr>\n",
              "      <th>1</th>\n",
              "      <td>2</td>\n",
              "      <td>FedAvg</td>\n",
              "      <td>50</td>\n",
              "      <td>0.2</td>\n",
              "      <td>100</td>\n",
              "      <td>1</td>\n",
              "      <td>0.1</td>\n",
              "      <td>10</td>\n",
              "      <td>40</td>\n",
              "      <td>12.51</td>\n",
              "    </tr>\n",
              "    <tr>\n",
              "      <th>2</th>\n",
              "      <td>3</td>\n",
              "      <td>FedAvg</td>\n",
              "      <td>50</td>\n",
              "      <td>0.2</td>\n",
              "      <td>100</td>\n",
              "      <td>1</td>\n",
              "      <td>0.1</td>\n",
              "      <td>10</td>\n",
              "      <td>60</td>\n",
              "      <td>33.32</td>\n",
              "    </tr>\n",
              "    <tr>\n",
              "      <th>3</th>\n",
              "      <td>4</td>\n",
              "      <td>FedAvg</td>\n",
              "      <td>50</td>\n",
              "      <td>0.2</td>\n",
              "      <td>100</td>\n",
              "      <td>1</td>\n",
              "      <td>0.1</td>\n",
              "      <td>10</td>\n",
              "      <td>80</td>\n",
              "      <td>56.19</td>\n",
              "    </tr>\n",
              "    <tr>\n",
              "      <th>4</th>\n",
              "      <td>5</td>\n",
              "      <td>FedAvg</td>\n",
              "      <td>50</td>\n",
              "      <td>0.2</td>\n",
              "      <td>100</td>\n",
              "      <td>1</td>\n",
              "      <td>0.1</td>\n",
              "      <td>10</td>\n",
              "      <td>100</td>\n",
              "      <td>56.06</td>\n",
              "    </tr>\n",
              "  </tbody>\n",
              "</table>\n",
              "</div>"
            ],
            "text/plain": [
              "   Round Algorithm   N    C    B  E    η  Seed  Message count  Test accuracy\n",
              "0      1    FedAvg  50  0.2  100  1  0.1    10             20          14.26\n",
              "1      2    FedAvg  50  0.2  100  1  0.1    10             40          12.51\n",
              "2      3    FedAvg  50  0.2  100  1  0.1    10             60          33.32\n",
              "3      4    FedAvg  50  0.2  100  1  0.1    10             80          56.19\n",
              "4      5    FedAvg  50  0.2  100  1  0.1    10            100          56.06"
            ]
          },
          "execution_count": 6,
          "metadata": {},
          "output_type": "execute_result"
        }
      ],
      "source": [
        "lr = 0.1\n",
        "c = 0.2\n",
        "n = 50\n",
        "client_subsets = split(n, False, seed)\n",
        "\n",
        "fedavg_server = FedAvgServer(lr, b, client_subsets, c, e, seed)\n",
        "result_fedavg = fedavg_server.run(5)\n",
        "fedavg_df = result_fedavg.as_df()\n",
        "fedavg_df"
      ]
    },
    {
      "cell_type": "code",
      "execution_count": 7,
      "metadata": {
        "colab": {
          "base_uri": "https://localhost:8080/",
          "height": 206
        },
        "id": "PodbW4X0jzzc",
        "outputId": "49159429-079f-45d6-f1ab-e4afc079e211"
      },
      "outputs": [
        {
          "name": "stderr",
          "output_type": "stream",
          "text": [
            "                                                     \r"
          ]
        },
        {
          "data": {
            "text/html": [
              "<div>\n",
              "<style scoped>\n",
              "    .dataframe tbody tr th:only-of-type {\n",
              "        vertical-align: middle;\n",
              "    }\n",
              "\n",
              "    .dataframe tbody tr th {\n",
              "        vertical-align: top;\n",
              "    }\n",
              "\n",
              "    .dataframe thead th {\n",
              "        text-align: right;\n",
              "    }\n",
              "</style>\n",
              "<table border=\"1\" class=\"dataframe\">\n",
              "  <thead>\n",
              "    <tr style=\"text-align: right;\">\n",
              "      <th></th>\n",
              "      <th>Round</th>\n",
              "      <th>Algorithm</th>\n",
              "      <th>N</th>\n",
              "      <th>C</th>\n",
              "      <th>B</th>\n",
              "      <th>E</th>\n",
              "      <th>η</th>\n",
              "      <th>Seed</th>\n",
              "      <th>Message count</th>\n",
              "      <th>Test accuracy</th>\n",
              "    </tr>\n",
              "  </thead>\n",
              "  <tbody>\n",
              "    <tr>\n",
              "      <th>0</th>\n",
              "      <td>1</td>\n",
              "      <td>FedSGD</td>\n",
              "      <td>50</td>\n",
              "      <td>0.2</td>\n",
              "      <td>100</td>\n",
              "      <td>1</td>\n",
              "      <td>0.1</td>\n",
              "      <td>10</td>\n",
              "      <td>20</td>\n",
              "      <td>14.26</td>\n",
              "    </tr>\n",
              "    <tr>\n",
              "      <th>1</th>\n",
              "      <td>2</td>\n",
              "      <td>FedSGD</td>\n",
              "      <td>50</td>\n",
              "      <td>0.2</td>\n",
              "      <td>100</td>\n",
              "      <td>1</td>\n",
              "      <td>0.1</td>\n",
              "      <td>10</td>\n",
              "      <td>40</td>\n",
              "      <td>12.51</td>\n",
              "    </tr>\n",
              "    <tr>\n",
              "      <th>2</th>\n",
              "      <td>3</td>\n",
              "      <td>FedSGD</td>\n",
              "      <td>50</td>\n",
              "      <td>0.2</td>\n",
              "      <td>100</td>\n",
              "      <td>1</td>\n",
              "      <td>0.1</td>\n",
              "      <td>10</td>\n",
              "      <td>60</td>\n",
              "      <td>33.32</td>\n",
              "    </tr>\n",
              "    <tr>\n",
              "      <th>3</th>\n",
              "      <td>4</td>\n",
              "      <td>FedSGD</td>\n",
              "      <td>50</td>\n",
              "      <td>0.2</td>\n",
              "      <td>100</td>\n",
              "      <td>1</td>\n",
              "      <td>0.1</td>\n",
              "      <td>10</td>\n",
              "      <td>80</td>\n",
              "      <td>56.19</td>\n",
              "    </tr>\n",
              "    <tr>\n",
              "      <th>4</th>\n",
              "      <td>5</td>\n",
              "      <td>FedSGD</td>\n",
              "      <td>50</td>\n",
              "      <td>0.2</td>\n",
              "      <td>100</td>\n",
              "      <td>1</td>\n",
              "      <td>0.1</td>\n",
              "      <td>10</td>\n",
              "      <td>100</td>\n",
              "      <td>56.06</td>\n",
              "    </tr>\n",
              "  </tbody>\n",
              "</table>\n",
              "</div>"
            ],
            "text/plain": [
              "   Round Algorithm   N    C    B  E    η  Seed  Message count  Test accuracy\n",
              "0      1    FedSGD  50  0.2  100  1  0.1    10             20          14.26\n",
              "1      2    FedSGD  50  0.2  100  1  0.1    10             40          12.51\n",
              "2      3    FedSGD  50  0.2  100  1  0.1    10             60          33.32\n",
              "3      4    FedSGD  50  0.2  100  1  0.1    10             80          56.19\n",
              "4      5    FedSGD  50  0.2  100  1  0.1    10            100          56.06"
            ]
          },
          "execution_count": 7,
          "metadata": {},
          "output_type": "execute_result"
        }
      ],
      "source": [
        "fedsgd_server = FedSGDServer(lr, b, client_subsets, c, e, seed)\n",
        "result_fedsgd = fedsgd_server.run(5)\n",
        "fedsgd_df = result_fedsgd.as_df()\n",
        "fedsgd_df"
      ]
    },
    {
      "cell_type": "markdown",
      "metadata": {
        "id": "9CFf2RDgjzzc"
      },
      "source": [
        "### Exercise A2: Client number & fraction (4 points)"
      ]
    },
    {
      "cell_type": "markdown",
      "metadata": {
        "id": "oLo5ftDqjzzc"
      },
      "source": [
        "#### Question"
      ]
    },
    {
      "cell_type": "markdown",
      "metadata": {
        "id": "VbGLDr3Bjzzd"
      },
      "source": [
        "_(2 points)_ Run the necessary experiments to fill in the following table showing the final message count and test accuracy of FedSGD and FedAvg for different total client numbers:\n",
        "\n",
        "| Algorithm | N   | C   | Message count | Test accuracy |\n",
        "| --------- | --- | --- | ------------- | ------------- |\n",
        "| FedSGD    | 10  | 0.1 |               |               |\n",
        "| FedAvg    | 10  | 0.1 |               |               |\n",
        "| FedSGD    | 50  | 0.1 |               |               |\n",
        "| FedAvg    | 50  | 0.1 |               |               |\n",
        "| FedSGD    | 100 | 0.1 |               |               |\n",
        "| FedAvg    | 100 | 0.1 |               |               |\n",
        "\n",
        "Is the relationship between the metrics/algorithms and client numbers monotonous? Briefly explain your reasoning.\n",
        "\n",
        "_(2 points)_ Run the experiments to fill in the table when varying the fraction of clients used in every round:\n",
        "\n",
        "| Algorithm | N   | C    | Message count | Test accuracy |\n",
        "| --------- | --- | ---- | ------------- | ------------- |\n",
        "| FedSGD    | 100 | 0.01 |               |               |\n",
        "| FedAvg    | 100 | 0.01 |               |               |\n",
        "| FedSGD    | 100 | 0.1  |               |               |\n",
        "| FedAvg    | 100 | 0.1  |               |               |\n",
        "| FedSGD    | 100 | 0.2  |               |               |\n",
        "| FedAvg    | 100 | 0.2  |               |               |\n",
        "\n",
        "How do the observed relationships compare to before? Again, succintly argue your answer."
      ]
    },
    {
      "cell_type": "markdown",
      "metadata": {
        "id": "pJc-l8agjzzd"
      },
      "source": [
        "#### Answer"
      ]
    },
    {
      "cell_type": "code",
      "execution_count": 8,
      "metadata": {
        "colab": {
          "base_uri": "https://localhost:8080/"
        },
        "id": "ffXfBKkMjzzd",
        "outputId": "7dd2f137-548e-476f-e70a-494395158038"
      },
      "outputs": [
        {
          "name": "stderr",
          "output_type": "stream",
          "text": [
            "                                                       \r"
          ]
        },
        {
          "name": "stdout",
          "output_type": "stream",
          "text": [
            "FedAvg Results:\n",
            "   Round Algorithm   N    C    B  E     η  Seed  Message count  Test accuracy\n",
            "0      1    FedAvg  10  0.1  100  1  0.01    10              2          74.25\n",
            "1      2    FedAvg  10  0.1  100  1  0.01    10              4          87.47\n",
            "2      3    FedAvg  10  0.1  100  1  0.01    10              6          88.71\n",
            "3      4    FedAvg  10  0.1  100  1  0.01    10              8          90.13\n",
            "4      5    FedAvg  10  0.1  100  1  0.01    10             10          90.91\n",
            "5      6    FedAvg  10  0.1  100  1  0.01    10             12          91.17\n",
            "6      7    FedAvg  10  0.1  100  1  0.01    10             14          91.75\n",
            "7      8    FedAvg  10  0.1  100  1  0.01    10             16          92.69\n",
            "8      9    FedAvg  10  0.1  100  1  0.01    10             18          91.91\n",
            "9     10    FedAvg  10  0.1  100  1  0.01    10             20          92.68\n",
            "\n",
            "FedSGD Results:\n",
            "   Round Algorithm   N    C    B  E     η  Seed  Message count  Test accuracy\n",
            "0      1    FedSGD  10  0.1  100  1  0.01    10              2          75.05\n",
            "1      2    FedSGD  10  0.1  100  1  0.01    10              4          85.23\n",
            "2      3    FedSGD  10  0.1  100  1  0.01    10              6          88.86\n",
            "3      4    FedSGD  10  0.1  100  1  0.01    10              8          90.29\n",
            "4      5    FedSGD  10  0.1  100  1  0.01    10             10          91.05\n",
            "5      6    FedSGD  10  0.1  100  1  0.01    10             12          92.06\n",
            "6      7    FedSGD  10  0.1  100  1  0.01    10             14          92.06\n",
            "7      8    FedSGD  10  0.1  100  1  0.01    10             16          92.70\n",
            "8      9    FedSGD  10  0.1  100  1  0.01    10             18          92.77\n",
            "9     10    FedSGD  10  0.1  100  1  0.01    10             20          93.11\n"
          ]
        },
        {
          "name": "stderr",
          "output_type": "stream",
          "text": [
            "                                                       \r"
          ]
        },
        {
          "name": "stdout",
          "output_type": "stream",
          "text": [
            "FedAvg Results:\n",
            "   Round Algorithm   N    C    B  E     η  Seed  Message count  Test accuracy\n",
            "0      1    FedAvg  50  0.1  100  1  0.01    10             10          48.27\n",
            "1      2    FedAvg  50  0.1  100  1  0.01    10             20          66.79\n",
            "2      3    FedAvg  50  0.1  100  1  0.01    10             30          67.39\n",
            "3      4    FedAvg  50  0.1  100  1  0.01    10             40          78.39\n",
            "4      5    FedAvg  50  0.1  100  1  0.01    10             50          81.47\n",
            "5      6    FedAvg  50  0.1  100  1  0.01    10             60          83.40\n",
            "6      7    FedAvg  50  0.1  100  1  0.01    10             70          85.72\n",
            "7      8    FedAvg  50  0.1  100  1  0.01    10             80          86.27\n",
            "8      9    FedAvg  50  0.1  100  1  0.01    10             90          87.46\n",
            "9     10    FedAvg  50  0.1  100  1  0.01    10            100          87.78\n",
            "\n",
            "FedSGD Results:\n",
            "   Round Algorithm   N    C    B  E     η  Seed  Message count  Test accuracy\n",
            "0      1    FedSGD  50  0.1  100  1  0.01    10             10          49.28\n",
            "1      2    FedSGD  50  0.1  100  1  0.01    10             20          66.28\n",
            "2      3    FedSGD  50  0.1  100  1  0.01    10             30          67.71\n",
            "3      4    FedSGD  50  0.1  100  1  0.01    10             40          77.76\n",
            "4      5    FedSGD  50  0.1  100  1  0.01    10             50          81.39\n",
            "5      6    FedSGD  50  0.1  100  1  0.01    10             60          83.50\n",
            "6      7    FedSGD  50  0.1  100  1  0.01    10             70          85.85\n",
            "7      8    FedSGD  50  0.1  100  1  0.01    10             80          86.19\n",
            "8      9    FedSGD  50  0.1  100  1  0.01    10             90          87.34\n",
            "9     10    FedSGD  50  0.1  100  1  0.01    10            100          87.86\n"
          ]
        },
        {
          "name": "stderr",
          "output_type": "stream",
          "text": [
            "                                                       "
          ]
        },
        {
          "name": "stdout",
          "output_type": "stream",
          "text": [
            "FedAvg Results:\n",
            "   Round Algorithm    N    C    B  E     η  Seed  Message count  Test accuracy\n",
            "0      1    FedAvg  100  0.1  100  1  0.01    10             20          31.35\n",
            "1      2    FedAvg  100  0.1  100  1  0.01    10             40          46.75\n",
            "2      3    FedAvg  100  0.1  100  1  0.01    10             60          57.45\n",
            "3      4    FedAvg  100  0.1  100  1  0.01    10             80          64.41\n",
            "4      5    FedAvg  100  0.1  100  1  0.01    10            100          70.70\n",
            "5      6    FedAvg  100  0.1  100  1  0.01    10            120          74.03\n",
            "6      7    FedAvg  100  0.1  100  1  0.01    10            140          76.37\n",
            "7      8    FedAvg  100  0.1  100  1  0.01    10            160          77.58\n",
            "8      9    FedAvg  100  0.1  100  1  0.01    10            180          78.49\n",
            "9     10    FedAvg  100  0.1  100  1  0.01    10            200          81.91\n",
            "\n",
            "FedSGD Results:\n",
            "   Round Algorithm    N    C    B  E     η  Seed  Message count  Test accuracy\n",
            "0      1    FedSGD  100  0.1  100  1  0.01    10             20          30.88\n",
            "1      2    FedSGD  100  0.1  100  1  0.01    10             40          47.20\n",
            "2      3    FedSGD  100  0.1  100  1  0.01    10             60          56.34\n",
            "3      4    FedSGD  100  0.1  100  1  0.01    10             80          63.35\n",
            "4      5    FedSGD  100  0.1  100  1  0.01    10            100          71.01\n",
            "5      6    FedSGD  100  0.1  100  1  0.01    10            120          73.56\n",
            "6      7    FedSGD  100  0.1  100  1  0.01    10            140          75.77\n",
            "7      8    FedSGD  100  0.1  100  1  0.01    10            160          77.43\n",
            "8      9    FedSGD  100  0.1  100  1  0.01    10            180          78.24\n",
            "9     10    FedSGD  100  0.1  100  1  0.01    10            200          81.50\n"
          ]
        },
        {
          "name": "stderr",
          "output_type": "stream",
          "text": [
            "\r"
          ]
        }
      ],
      "source": [
        "n = 100\n",
        "lr = 0.01\n",
        "c = 0.1\n",
        "e = 1\n",
        "b = 100\n",
        "nr_rounds = 10\n",
        "iid = True\n",
        "seed = 10\n",
        "\n",
        "# N = 10, C = 0.1\n",
        "n = 10\n",
        "c = 0.1\n",
        "client_subsets = split(n, True, 10)\n",
        "fed_avg_server = FedAvgServer(lr, b, client_subsets, c, e, seed)\n",
        "fed_sgd_server = FedSGDServer(lr, b, client_subsets, c, e, seed)\n",
        "\n",
        "result_fedavg = fed_avg_server.run(nr_rounds)\n",
        "result_fedsgd = fed_sgd_server.run(nr_rounds)\n",
        "fedavg_df = result_fedavg.as_df()\n",
        "fedsgd_df = result_fedsgd.as_df()\n",
        "print(\"FedAvg Results:\")\n",
        "print(fedavg_df)\n",
        "print(\"\\nFedSGD Results:\")\n",
        "print(fedsgd_df)\n",
        "\n",
        "\n",
        "# N = 50, C = 0.1\n",
        "n = 50\n",
        "client_subsets = split(n, True, 10)\n",
        "\n",
        "fed_avg_server = FedAvgServer(lr, b, client_subsets, c, e, seed)\n",
        "fed_sgd_server = FedSGDServer(lr, b, client_subsets, c, e, seed)\n",
        "\n",
        "result_fedavg = fed_avg_server.run(nr_rounds)\n",
        "result_fedsgd = fed_sgd_server.run(nr_rounds)\n",
        "fedavg_df = result_fedavg.as_df()\n",
        "fedsgd_df = result_fedsgd.as_df()\n",
        "print(\"FedAvg Results:\")\n",
        "print(fedavg_df)\n",
        "print(\"\\nFedSGD Results:\")\n",
        "print(fedsgd_df)\n",
        "\n",
        "\n",
        "# N = 100, C = 0.1\n",
        "n = 100\n",
        "client_subsets = split(n, True, 10)\n",
        "\n",
        "fed_avg_server = FedAvgServer(lr, b, client_subsets, c, e, seed)\n",
        "fed_sgd_server = FedSGDServer(lr, b, client_subsets, c, e, seed)\n",
        "\n",
        "result_fedavg = fed_avg_server.run(nr_rounds)\n",
        "result_fedsgd = fed_sgd_server.run(nr_rounds)\n",
        "fedavg_df = result_fedavg.as_df()\n",
        "fedsgd_df = result_fedsgd.as_df()\n",
        "print(\"FedAvg Results:\")\n",
        "print(fedavg_df)\n",
        "print(\"\\nFedSGD Results:\")\n",
        "print(fedsgd_df)"
      ]
    },
    {
      "cell_type": "markdown",
      "metadata": {
        "id": "3T6aIBEDjzzd"
      },
      "source": [
        "TODO"
      ]
    },
    {
      "cell_type": "code",
      "execution_count": 9,
      "metadata": {
        "colab": {
          "base_uri": "https://localhost:8080/"
        },
        "id": "ksIuB4VVjzzd",
        "outputId": "a4e88946-15d8-4a57-8e27-fd6336e35afc"
      },
      "outputs": [
        {
          "name": "stderr",
          "output_type": "stream",
          "text": [
            "                                                       \r"
          ]
        },
        {
          "name": "stdout",
          "output_type": "stream",
          "text": [
            "FedAvg Results:\n",
            "   Round Algorithm    N     C    B  E     η  Seed  Message count  \\\n",
            "0      1    FedAvg  100  0.01  100  1  0.01    10              2   \n",
            "1      2    FedAvg  100  0.01  100  1  0.01    10              4   \n",
            "2      3    FedAvg  100  0.01  100  1  0.01    10              6   \n",
            "3      4    FedAvg  100  0.01  100  1  0.01    10              8   \n",
            "4      5    FedAvg  100  0.01  100  1  0.01    10             10   \n",
            "5      6    FedAvg  100  0.01  100  1  0.01    10             12   \n",
            "6      7    FedAvg  100  0.01  100  1  0.01    10             14   \n",
            "7      8    FedAvg  100  0.01  100  1  0.01    10             16   \n",
            "8      9    FedAvg  100  0.01  100  1  0.01    10             18   \n",
            "9     10    FedAvg  100  0.01  100  1  0.01    10             20   \n",
            "\n",
            "   Test accuracy  \n",
            "0          31.09  \n",
            "1          39.09  \n",
            "2          41.92  \n",
            "3          53.99  \n",
            "4          66.35  \n",
            "5          71.14  \n",
            "6          63.69  \n",
            "7          73.35  \n",
            "8          75.08  \n",
            "9          76.54  \n",
            "\n",
            "FedSGD Results:\n",
            "   Round Algorithm    N     C    B  E     η  Seed  Message count  \\\n",
            "0      1    FedSGD  100  0.01  100  1  0.01    10              2   \n",
            "1      2    FedSGD  100  0.01  100  1  0.01    10              4   \n",
            "2      3    FedSGD  100  0.01  100  1  0.01    10              6   \n",
            "3      4    FedSGD  100  0.01  100  1  0.01    10              8   \n",
            "4      5    FedSGD  100  0.01  100  1  0.01    10             10   \n",
            "5      6    FedSGD  100  0.01  100  1  0.01    10             12   \n",
            "6      7    FedSGD  100  0.01  100  1  0.01    10             14   \n",
            "7      8    FedSGD  100  0.01  100  1  0.01    10             16   \n",
            "8      9    FedSGD  100  0.01  100  1  0.01    10             18   \n",
            "9     10    FedSGD  100  0.01  100  1  0.01    10             20   \n",
            "\n",
            "   Test accuracy  \n",
            "0          31.56  \n",
            "1          38.29  \n",
            "2          44.92  \n",
            "3          55.58  \n",
            "4          60.82  \n",
            "5          69.59  \n",
            "6          61.39  \n",
            "7          72.16  \n",
            "8          71.09  \n",
            "9          76.55  \n"
          ]
        },
        {
          "name": "stderr",
          "output_type": "stream",
          "text": [
            "                                                       \r"
          ]
        },
        {
          "name": "stdout",
          "output_type": "stream",
          "text": [
            "FedAvg Results:\n",
            "   Round Algorithm    N    C    B  E     η  Seed  Message count  Test accuracy\n",
            "0      1    FedAvg  100  0.1  100  1  0.01    10             20          31.35\n",
            "1      2    FedAvg  100  0.1  100  1  0.01    10             40          46.75\n",
            "2      3    FedAvg  100  0.1  100  1  0.01    10             60          57.45\n",
            "3      4    FedAvg  100  0.1  100  1  0.01    10             80          64.41\n",
            "4      5    FedAvg  100  0.1  100  1  0.01    10            100          70.70\n",
            "5      6    FedAvg  100  0.1  100  1  0.01    10            120          74.03\n",
            "6      7    FedAvg  100  0.1  100  1  0.01    10            140          76.37\n",
            "7      8    FedAvg  100  0.1  100  1  0.01    10            160          77.58\n",
            "8      9    FedAvg  100  0.1  100  1  0.01    10            180          78.49\n",
            "9     10    FedAvg  100  0.1  100  1  0.01    10            200          81.91\n",
            "\n",
            "FedSGD Results:\n",
            "   Round Algorithm    N    C    B  E     η  Seed  Message count  Test accuracy\n",
            "0      1    FedSGD  100  0.1  100  1  0.01    10             20          30.88\n",
            "1      2    FedSGD  100  0.1  100  1  0.01    10             40          47.20\n",
            "2      3    FedSGD  100  0.1  100  1  0.01    10             60          56.34\n",
            "3      4    FedSGD  100  0.1  100  1  0.01    10             80          63.35\n",
            "4      5    FedSGD  100  0.1  100  1  0.01    10            100          71.01\n",
            "5      6    FedSGD  100  0.1  100  1  0.01    10            120          73.56\n",
            "6      7    FedSGD  100  0.1  100  1  0.01    10            140          75.77\n",
            "7      8    FedSGD  100  0.1  100  1  0.01    10            160          77.43\n",
            "8      9    FedSGD  100  0.1  100  1  0.01    10            180          78.24\n",
            "9     10    FedSGD  100  0.1  100  1  0.01    10            200          81.50\n"
          ]
        },
        {
          "name": "stderr",
          "output_type": "stream",
          "text": [
            "                                                       "
          ]
        },
        {
          "name": "stdout",
          "output_type": "stream",
          "text": [
            "FedAvg Results:\n",
            "   Round Algorithm    N    C    B  E     η  Seed  Message count  Test accuracy\n",
            "0      1    FedAvg  100  0.2  100  1  0.01    10             40          31.01\n",
            "1      2    FedAvg  100  0.2  100  1  0.01    10             80          44.87\n",
            "2      3    FedAvg  100  0.2  100  1  0.01    10            120          55.62\n",
            "3      4    FedAvg  100  0.2  100  1  0.01    10            160          61.45\n",
            "4      5    FedAvg  100  0.2  100  1  0.01    10            200          65.57\n",
            "5      6    FedAvg  100  0.2  100  1  0.01    10            240          71.31\n",
            "6      7    FedAvg  100  0.2  100  1  0.01    10            280          73.59\n",
            "7      8    FedAvg  100  0.2  100  1  0.01    10            320          74.59\n",
            "8      9    FedAvg  100  0.2  100  1  0.01    10            360          80.41\n",
            "9     10    FedAvg  100  0.2  100  1  0.01    10            400          81.88\n",
            "\n",
            "FedSGD Results:\n",
            "   Round Algorithm    N    C    B  E     η  Seed  Message count  Test accuracy\n",
            "0      1    FedSGD  100  0.2  100  1  0.01    10             40          31.17\n",
            "1      2    FedSGD  100  0.2  100  1  0.01    10             80          44.54\n",
            "2      3    FedSGD  100  0.2  100  1  0.01    10            120          55.22\n",
            "3      4    FedSGD  100  0.2  100  1  0.01    10            160          60.92\n",
            "4      5    FedSGD  100  0.2  100  1  0.01    10            200          65.46\n",
            "5      6    FedSGD  100  0.2  100  1  0.01    10            240          71.08\n",
            "6      7    FedSGD  100  0.2  100  1  0.01    10            280          72.98\n",
            "7      8    FedSGD  100  0.2  100  1  0.01    10            320          74.14\n",
            "8      9    FedSGD  100  0.2  100  1  0.01    10            360          80.09\n",
            "9     10    FedSGD  100  0.2  100  1  0.01    10            400          82.04\n"
          ]
        },
        {
          "name": "stderr",
          "output_type": "stream",
          "text": [
            "\r"
          ]
        }
      ],
      "source": [
        "# N = 100, C = 0.01\n",
        "n = 100\n",
        "c = 0.01\n",
        "client_subsets = split(n, True, 10)\n",
        "fed_avg_server = FedAvgServer(lr, b, client_subsets, c, e, seed)\n",
        "fed_sgd_server = FedSGDServer(lr, b, client_subsets, c, e, seed)\n",
        "\n",
        "result_fedavg = fed_avg_server.run(nr_rounds)\n",
        "result_fedsgd = fed_sgd_server.run(nr_rounds)\n",
        "fedavg_df = result_fedavg.as_df()\n",
        "fedsgd_df = result_fedsgd.as_df()\n",
        "print(\"FedAvg Results:\")\n",
        "print(fedavg_df)\n",
        "print(\"\\nFedSGD Results:\")\n",
        "print(fedsgd_df)\n",
        "\n",
        "\n",
        "# N = 100, C = 0.1\n",
        "c = 0.1\n",
        "client_subsets = split(n, True, 10)\n",
        "\n",
        "fed_avg_server = FedAvgServer(lr, b, client_subsets, c, e, seed)\n",
        "fed_sgd_server = FedSGDServer(lr, b, client_subsets, c, e, seed)\n",
        "\n",
        "result_fedavg = fed_avg_server.run(nr_rounds)\n",
        "result_fedsgd = fed_sgd_server.run(nr_rounds)\n",
        "fedavg_df = result_fedavg.as_df()\n",
        "fedsgd_df = result_fedsgd.as_df()\n",
        "print(\"FedAvg Results:\")\n",
        "print(fedavg_df)\n",
        "print(\"\\nFedSGD Results:\")\n",
        "print(fedsgd_df)\n",
        "\n",
        "\n",
        "# N = 100, C = 0.2\n",
        "c = 0.2\n",
        "client_subsets = split(n, True, 10)\n",
        "\n",
        "fed_avg_server = FedAvgServer(lr, b, client_subsets, c, e, seed)\n",
        "fed_sgd_server = FedSGDServer(lr, b, client_subsets, c, e, seed)\n",
        "\n",
        "result_fedavg = fed_avg_server.run(nr_rounds)\n",
        "result_fedsgd = fed_sgd_server.run(nr_rounds)\n",
        "fedavg_df = result_fedavg.as_df()\n",
        "fedsgd_df = result_fedsgd.as_df()\n",
        "print(\"FedAvg Results:\")\n",
        "print(fedavg_df)\n",
        "print(\"\\nFedSGD Results:\")\n",
        "print(fedsgd_df)"
      ]
    },
    {
      "cell_type": "markdown",
      "metadata": {
        "id": "jYTSKSNljzzd"
      },
      "source": [
        "TODO"
      ]
    },
    {
      "cell_type": "markdown",
      "metadata": {
        "id": "rcqEzNCdjzzd"
      },
      "source": [
        "### Exercise A3: Local epoch count & (non-)IID data (5 points)"
      ]
    },
    {
      "cell_type": "markdown",
      "metadata": {
        "id": "OJWaQlDVjzze"
      },
      "source": [
        "#### Question"
      ]
    },
    {
      "cell_type": "markdown",
      "metadata": {
        "id": "pMzE0IT_jzze"
      },
      "source": [
        "_(1 point)_ Create a line plot of the accuracy after each round for the following algorithm variants:\n",
        "\n",
        "- FedSGD\n",
        "- FedAvg (E=1)\n",
        "- FedAvg (E=2)\n",
        "- FedAvg (E=4)\n",
        "\n",
        "How does FedAvg compare to FedSGD? What is the effect of increasing the work clients perform locally for each update in FedAvg?\n",
        "\n",
        "_(2 points)_ Make one line plot of FedSGD and FedAvg under an IID and non-IID split for 15 rounds (leaving all other parameter values as they previously mentioned default). How does the non-IID setting affect the accuracy achieved by the two algorithms? What is the difference in terms of the smoothness of learning?\n",
        "\n",
        "_(2 points)_ Make another plot for only non-IID splits, including the FedSGD and FedAvg configs from the point above, and add a version for each with a learning rate of 0.001 and client fraction of 0.5. How does the stability of the new variants compare to the ones from before? Why do the changes in parameters have the observed effect?"
      ]
    },
    {
      "cell_type": "markdown",
      "metadata": {
        "id": "x6g_9vYZjzze"
      },
      "source": [
        "#### Answer"
      ]
    },
    {
      "cell_type": "code",
      "execution_count": 3,
      "metadata": {
        "colab": {
          "base_uri": "https://localhost:8080/",
          "height": 564
        },
        "id": "7na9TQy-jzze",
        "outputId": "958fbef7-7a83-48db-f64c-8cee90726dee"
      },
      "outputs": [
        {
          "name": "stderr",
          "output_type": "stream",
          "text": [
            "                                                       \r"
          ]
        },
        {
          "data": {
            "image/png": "[encoded data removed]",
            "text/plain": [
              "<Figure size 1000x600 with 1 Axes>"
            ]
          },
          "metadata": {},
          "output_type": "display_data"
        }
      ],
      "source": [
        "import matplotlib.pyplot as plt\n",
        "import seaborn as sns\n",
        "\n",
        "\n",
        "n = 100\n",
        "lr = 0.01\n",
        "c = 0.1\n",
        "e = 1\n",
        "b = 100\n",
        "nr_rounds = 10\n",
        "iid = True\n",
        "seed = 10\n",
        "client_subsets = split(n, iid, seed)\n",
        "\n",
        "fedsgd_server = FedSGDServer(lr, b, client_subsets, c, e, seed)\n",
        "result_fedsgd = fedsgd_server.run(nr_rounds)\n",
        "fedsgd_df = result_fedsgd.as_df()\n",
        "\n",
        "fedavg_server1 = FedAvgServer(lr, b, client_subsets, c, e, seed)\n",
        "result_fedavg1 = fedavg_server1.run(nr_rounds)\n",
        "fedavge1_df = result_fedavg1.as_df()\n",
        "\n",
        "fedavg_server2 = FedAvgServer(lr, b, client_subsets, c, 2, seed)\n",
        "result_fedavg2 = fedavg_server2.run(nr_rounds)\n",
        "fedavge2_df = result_fedavg2.as_df()\n",
        "\n",
        "fedavg_server4 = FedAvgServer(lr, b, client_subsets, c, 4, seed)\n",
        "result_fedavg4 = fedavg_server4.run(nr_rounds)\n",
        "fedavge4_df = result_fedavg4.as_df()\n",
        "\n",
        "fedsgd_df['Algorithm'] = 'FedSGD'\n",
        "fedavge1_df['Algorithm'] = 'FedAvg (E=1)'\n",
        "fedavge2_df['Algorithm'] = 'FedAvg (E=2)'\n",
        "fedavge4_df['Algorithm'] = 'FedAvg (E=4)'\n",
        "df = pd.concat([fedsgd_df, fedavge1_df, fedavge2_df, fedavge4_df], ignore_index=True)\n",
        "plt.figure(figsize=(10, 6))\n",
        "ax = sns.lineplot(data=df, x=\"Round\", y=\"Test accuracy\", hue=\"Algorithm\", marker='o')\n",
        "ax.set_xticks(df[\"Round\"].unique())\n",
        "ax.set_title('FedSGD vs FedAvg E=1 vs FedAvg E=2 Vs FedAvg E=4')\n",
        "ax.set_xlabel('Round')\n",
        "ax.set_ylabel('Test Accuracy (%)')\n",
        "plt.legend(title='Algorithm')\n",
        "plt.show()"
      ]
    },
    {
      "cell_type": "markdown",
      "metadata": {
        "id": "LE3DE3Awjzze"
      },
      "source": [
        "TODO"
      ]
    },
    {
      "cell_type": "code",
      "execution_count": 6,
      "metadata": {
        "colab": {
          "base_uri": "https://localhost:8080/",
          "height": 373
        },
        "id": "svqA6rgYjzze",
        "outputId": "9c09a9e5-ece5-4582-88e1-18b2e03368b4"
      },
      "outputs": [
        {
          "name": "stderr",
          "output_type": "stream",
          "text": [
            "                                                       \r"
          ]
        }
      ],
      "source": [
        "n = 100\n",
        "lr = 0.01\n",
        "c = 0.1\n",
        "e = 1\n",
        "b = 100\n",
        "iid = True\n",
        "seed = 10\n",
        "client_subsets = split(n, iid, seed)\n",
        "nr_rounds = 15\n",
        "fedsgd_server0 = FedSGDServer(lr, b, client_subsets, c, e, seed)\n",
        "result_fedsgd0 = fedsgd_server0.run(nr_rounds)\n",
        "fedsgd0_df = result_fedsgd0.as_df()\n",
        "\n",
        "fedavg_server = FedAvgServer(lr, b, client_subsets, c, e, seed)\n",
        "result_fedavg = fedavg_server.run(nr_rounds)\n",
        "fedavg0_df = result_fedavg.as_df()\n"
      ]
    },
    {
      "cell_type": "code",
      "execution_count": 7,
      "metadata": {},
      "outputs": [
        {
          "name": "stderr",
          "output_type": "stream",
          "text": [
            "                                                       \r"
          ]
        }
      ],
      "source": [
        "\n",
        "iid = False\n",
        "client_subsets = split(n, iid, seed)\n",
        "fedsgd_server1 = FedSGDServer(lr, b, client_subsets, c, e, seed)\n",
        "result_fedsgd1 = fedsgd_server1.run(nr_rounds)\n",
        "fedsgd1_df = result_fedsgd1.as_df()\n",
        "\n",
        "fedavg_server1 = FedAvgServer(lr, b, client_subsets, c, e, seed)\n",
        "result_fedavg1 = fedavg_server1.run(nr_rounds)\n",
        "fedavg1_df = result_fedavg1.as_df()\n",
        "\n",
        "\n"
      ]
    },
    {
      "cell_type": "markdown",
      "metadata": {
        "id": "4tXsey5Wjzze"
      },
      "source": [
        "TODO"
      ]
    },
    {
      "cell_type": "code",
      "execution_count": 8,
      "metadata": {},
      "outputs": [
        {
          "name": "stderr",
          "output_type": "stream",
          "text": [
            "                                                       \r"
          ]
        }
      ],
      "source": [
        "lr = 0.001\n",
        "c = 0.5\n",
        "client_subsets = split(n, iid, seed)\n",
        "\n",
        "fedsgd_server3 = FedSGDServer(lr, b, client_subsets, c, e, seed)\n",
        "result_fedsgd3 = fedsgd_server3.run(nr_rounds)\n",
        "fedsgd3_df = result_fedsgd3.as_df()\n",
        "\n",
        "fedavg_server3 = FedAvgServer(lr, b, client_subsets, c, e, seed)\n",
        "result_fedavg3 = fedavg_server3.run(nr_rounds)\n",
        "fedavg3_df = result_fedavg3.as_df()"
      ]
    },
    {
      "cell_type": "code",
      "execution_count": 9,
      "metadata": {
        "id": "LhshsvMBr9Mi"
      },
      "outputs": [
        {
          "data": {
            "image/png": "[encoded data removed]",
            "text/plain": [
              "<Figure size 800x500 with 1 Axes>"
            ]
          },
          "metadata": {},
          "output_type": "display_data"
        },
        {
          "data": {
            "image/png": "[encoded data removed]",
            "text/plain": [
              "<Figure size 800x500 with 1 Axes>"
            ]
          },
          "metadata": {},
          "output_type": "display_data"
        }
      ],
      "source": [
        "import pandas as pd\n",
        "import seaborn as sns\n",
        "import matplotlib.pyplot as plt\n",
        "\n",
        "fedsgd0_df['Algorithm'] = 'FedSGD (IID)'\n",
        "fedavg0_df['Algorithm'] = 'FedAvg (IID)'\n",
        "fedsgd1_df['Algorithm'] = 'FedSGD (N-IID)'\n",
        "fedavg1_df['Algorithm'] = 'FedAvg (N-IID)'\n",
        "df = pd.concat([fedsgd0_df, fedavg0_df, fedsgd1_df, fedavg1_df], ignore_index=True)\n",
        "plt.figure(figsize=(8, 5))\n",
        "sns.lineplot(df, x=\"Round\", y=\"Test accuracy\", hue=\"Algorithm\")\n",
        "plt.title(\"FedSGD vs FedAvg: IID vs. Non-IID\")\n",
        "plt.xticks(df[\"Round\"].unique())\n",
        "plt.show()\n",
        "\n",
        "fedsgd3_df['Algorithm'] = 'FedSGD (N-IID, lr = 0.001, client fraction = 0.5)'\n",
        "fedavg3_df['Algorithm'] = 'FedAvg (N-IID, lr = 0.001, client fraction = 0.5)'\n",
        "fedsgd1_df['Algorithm'] = 'FedSGD (N-IID)'\n",
        "fedavg1_df['Algorithm'] = 'FedAvg (N-IID)'\n",
        "df_noniid = pd.concat([fedsgd1_df, fedavg1_df, fedsgd3_df, fedavg3_df], ignore_index=True)\n",
        "plt.figure(figsize=(8, 5))\n",
        "sns.lineplot(df_noniid, x=\"Round\", y=\"Test accuracy\", hue=\"Algorithm\")\n",
        "plt.title(\"FedSGD vs FedAvg: Non-IID with Parameter Variations\")\n",
        "plt.xticks(df[\"Round\"].unique())\n",
        "plt.show()"
      ]
    },
    {
      "cell_type": "markdown",
      "metadata": {
        "id": "11SgS1Oxjzzf"
      },
      "source": [
        "TODO"
      ]
    },
    {
      "cell_type": "markdown",
      "metadata": {
        "id": "OL9kNwghjzzf"
      },
      "source": [
        "## Part B (12 points)"
      ]
    },
    {
      "cell_type": "markdown",
      "metadata": {
        "id": "GwFAt7w3jzzf"
      },
      "source": [
        "### Exercise B1: Microbatch Pipeline Model Parallelism (7 points)"
      ]
    },
    {
      "cell_type": "markdown",
      "metadata": {
        "id": "razS7uDKjzzf"
      },
      "source": [
        "Implement pipeline parallelism with microbatches, as discussed during the lab.\n",
        "\n",
        "As with the other data/model parallelism examples, you will need a Python script for the nodes and a shell script to orchestrate execution.\n",
        "\n",
        "Be aware of the possibility of deadlocks: due to how `gloo` operates, it is possible to deadlock by having device 1 send $B_2$ to device 2 in the forward pass, and simultaneously, device 2 send $B_1$ in the backward pass.\n",
        "Since both sends will await corresponding receives, the training will stop indefinitely.\n",
        "\n",
        "Use `isend` & `irecv`, the asynchronous (non-blocking) versions of `send` & `recv` in `torch.distributed`.\n",
        "Each call of the two function returns a `Work` object, on which calling `wait()` blocks, if needed, until the message exchange finishes.\n",
        "Add comments or text explaining how you expect your implementation to work and test that it runs for the same number of steps and model architecture as in class.\n",
        "\n",
        "Note that `torch.distributed`'s implementation of `gloo` does not currently support properly asynchronous communication even when using the corresponding primitives.\n",
        "Thus, you will not see the same improvements in speed as with a backend like `nccl`.\n",
        "\n",
        "You may also use the fact that `torch` gradients naturally accumulate if not zeroed out.\n",
        "Also, scaling the loss by a constant is equivalent to scaling the resulting gradients by the same constant.\n",
        "\n",
        "You can rely on receiving messages in the same order they get sent between any device pair.\n",
        "The `(i)send/recv` functions all support a `tag` attribute to match messages explicitly.\n",
        "Although using it is good practice, it is not required.\n",
        "\n",
        "You can refer to the [documentation](https://pytorch.org/docs/stable/distributed.html) and, if helpful, a related [tutorial](https://brsoff.github.io/tutorials/intermediate/dist_tuto.html) on the PyTorch website."
      ]
    },
    {
      "cell_type": "markdown",
      "metadata": {
        "id": "8OxlnPv7jzzf"
      },
      "source": [
        "### Exercise B2: Joint Data & Model Parallelism (5 points)"
      ]
    },
    {
      "cell_type": "markdown",
      "metadata": {
        "id": "xpVclptDjzzj"
      },
      "source": [
        "Implement a training setup that uses data and model parallelism together.\n",
        "\n",
        "Create 2 pipelines of 3 stages running sequentially, where each stage works with 3 sequential micro-batches.\n",
        "\n",
        "Once again, add comments or text explaining your implementation and test it on the setting that mimics those from the class.\n",
        "\n",
        "You can use groups from `torch.distributed` to handle reduce operations between a subset of all workers."
      ]
    },
    {
      "cell_type": "markdown",
      "metadata": {
        "id": "4xKU4HvVjzzj"
      },
      "source": []
    }
  ],
  "metadata": {
    "accelerator": "GPU",
    "colab": {
      "gpuType": "T4",
      "provenance": []
    },
    "kernelspec": {
      "display_name": ".venv",
      "language": "python",
      "name": "python3"
    },
    "language_info": {
      "codemirror_mode": {
        "name": "ipython",
        "version": 3
      },
      "file_extension": ".py",
      "mimetype": "text/x-python",
      "name": "python",
      "nbconvert_exporter": "python",
      "pygments_lexer": "ipython3",
      "version": "3.12.6"
    }
  },
  "nbformat": 4,
  "nbformat_minor": 0
}
